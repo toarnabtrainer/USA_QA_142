{
 "cells": [
  {
   "cell_type": "markdown",
   "id": "743b15f2-844f-4832-8e3d-79725450bb9f",
   "metadata": {},
   "source": [
    "### Start Chrome Driver using executable path and start any webpage with get() function"
   ]
  },
  {
   "cell_type": "code",
   "execution_count": 1,
   "id": "67a87f71-668e-4423-85b7-c35ff2d58878",
   "metadata": {},
   "outputs": [
    {
     "name": "stdout",
     "output_type": "stream",
     "text": [
      "4.1.3\n"
     ]
    }
   ],
   "source": [
    "# importing required modules\n",
    "from selenium import webdriver\n",
    "\n",
    "# check the version of selenium\n",
    "print (webdriver.__version__)"
   ]
  },
  {
   "cell_type": "code",
   "execution_count": 3,
   "id": "cd327452-6e7d-49b7-8727-58ad83fec5a0",
   "metadata": {},
   "outputs": [
    {
     "name": "stderr",
     "output_type": "stream",
     "text": [
      "<ipython-input-3-6140a0f66382>:3: DeprecationWarning: executable_path has been deprecated, please pass in a Service object\n",
      "  driver = webdriver.Chrome(executable_path = './chromedriver.exe')\n"
     ]
    }
   ],
   "source": [
    "# check whether the chrome driver is present in the current directory or not\n",
    "# otherwise provide the relative path of the chromw driver\n",
    "driver = webdriver.Chrome(executable_path = './chromedriver.exe')"
   ]
  },
  {
   "cell_type": "code",
   "execution_count": 4,
   "id": "ab05961b-4963-4683-b20c-167d2e1f8c45",
   "metadata": {},
   "outputs": [],
   "source": [
    "# start wikipedia page\n",
    "driver.get('https://en.wikipedia.org/wiki/Main_Page')"
   ]
  },
  {
   "cell_type": "code",
   "execution_count": 13,
   "id": "1d9a6c8d-1df4-46a0-ace8-3c5d6a7a4be9",
   "metadata": {},
   "outputs": [
    {
     "name": "stdout",
     "output_type": "stream",
     "text": [
      "So the current URL is 'https://en.wikipedia.org/wiki/Main_Page'...\n",
      "So the current web page title is 'Wikipedia, the free encyclopedia'...\n"
     ]
    }
   ],
   "source": [
    "# get the current URL and the current title of the web page\n",
    "print (f\"So the current URL is '{driver.current_url}'...\")\n",
    "print (f\"So the current web page title is '{driver.title}'...\")"
   ]
  },
  {
   "cell_type": "code",
   "execution_count": 10,
   "id": "7a6bc372-f531-4914-af19-d67a2cd776b4",
   "metadata": {},
   "outputs": [
    {
     "name": "stdout",
     "output_type": "stream",
     "text": [
      "So the current URL is 'https://www.google.com/'...\n",
      "So the current web page title is 'Google'...\n"
     ]
    }
   ],
   "source": [
    "# now let us go to a new page, say 'Google'\n",
    "driver.get('https://www.google.com/')\n",
    "print (f\"So the current URL is '{driver.current_url}'...\")\n",
    "print (f\"So the current web page title is '{driver.title}'...\")"
   ]
  },
  {
   "cell_type": "code",
   "execution_count": 12,
   "id": "765a3005-3c92-4d11-a002-26b38686c626",
   "metadata": {},
   "outputs": [
    {
     "name": "stdout",
     "output_type": "stream",
     "text": [
      "So the current URL is 'https://en.wikipedia.org/wiki/Main_Page'...\n",
      "So the current web page title is 'Wikipedia, the free encyclopedia'...\n"
     ]
    }
   ],
   "source": [
    "# return back to the previous page using the back() function\n",
    "driver.back()\n",
    "print (f\"So the current URL is '{driver.current_url}'...\")\n",
    "print (f\"So the current web page title is '{driver.title}'...\")"
   ]
  },
  {
   "cell_type": "code",
   "execution_count": 14,
   "id": "28b12657-ec87-45de-9635-bdc80924c7dd",
   "metadata": {},
   "outputs": [
    {
     "name": "stdout",
     "output_type": "stream",
     "text": [
      "So the current URL is 'https://www.google.com/'...\n",
      "So the current web page title is 'Google'...\n"
     ]
    }
   ],
   "source": [
    "# go to the Google page once again using the forward() function\n",
    "driver.forward()\n",
    "print (f\"So the current URL is '{driver.current_url}'...\")\n",
    "print (f\"So the current web page title is '{driver.title}'...\")"
   ]
  },
  {
   "cell_type": "code",
   "execution_count": 15,
   "id": "6fe37093-55e5-4e6d-b5eb-cf27ea48efbe",
   "metadata": {},
   "outputs": [],
   "source": [
    "# close all the windows which are opened by the driver\n",
    "driver.quit()"
   ]
  },
  {
   "cell_type": "code",
   "execution_count": null,
   "id": "19091f1c-f553-4779-a3f6-0b2b35f440a9",
   "metadata": {},
   "outputs": [],
   "source": []
  },
  {
   "cell_type": "code",
   "execution_count": null,
   "id": "706de6b1-2182-456d-9392-82d5dd8660c3",
   "metadata": {},
   "outputs": [],
   "source": []
  },
  {
   "cell_type": "code",
   "execution_count": null,
   "id": "774e06bb-d232-4c5a-bf90-0685a083ae6a",
   "metadata": {},
   "outputs": [],
   "source": []
  }
 ],
 "metadata": {
  "kernelspec": {
   "display_name": "Python 3",
   "language": "python",
   "name": "python3"
  },
  "language_info": {
   "codemirror_mode": {
    "name": "ipython",
    "version": 3
   },
   "file_extension": ".py",
   "mimetype": "text/x-python",
   "name": "python",
   "nbconvert_exporter": "python",
   "pygments_lexer": "ipython3",
   "version": "3.8.8"
  }
 },
 "nbformat": 4,
 "nbformat_minor": 5
}
