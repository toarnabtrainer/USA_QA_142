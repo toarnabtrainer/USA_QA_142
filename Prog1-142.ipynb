{
 "cells": [
  {
   "cell_type": "markdown",
   "id": "2a6a8e68-376b-4871-b67f-e6cb154cc3cf",
   "metadata": {},
   "source": [
    "### Python Download Link:\n",
    "\n",
    "Anaconda Download Link: https://www.anaconda.com/products/distribution"
   ]
  },
  {
   "cell_type": "markdown",
   "id": "bdbc8791-38e3-44de-bc11-a49066000150",
   "metadata": {},
   "source": [
    "### Online Python Editors:\n",
    "\n",
    "https://onecompiler.com/ <br>\n",
    "https://www.onlinegdb.com/"
   ]
  },
  {
   "cell_type": "markdown",
   "id": "51c02d86-c972-4a09-83c5-80d8add13aa3",
   "metadata": {},
   "source": [
    "### Python Study Material Links:\n",
    "\n",
    "* Python for you and me: https://pymbook.readthedocs.io/en/latest/\n",
    "* Python Practice Book: https://anandology.com/python-practice-book/index.html\n",
    "* Learn Python Programming (programmiz.com): https://www.programiz.com/python-programming\n",
    "* Learn Python Programming (data-flair): https://data-flair.training/blogs/python-tutorial/"
   ]
  },
  {
   "cell_type": "code",
   "execution_count": 6,
   "id": "c3122197-8c38-4666-b3bf-a5635c3d0f58",
   "metadata": {},
   "outputs": [
    {
     "name": "stdout",
     "output_type": "stream",
     "text": [
      "Hello\n",
      "Welcome to all...\n"
     ]
    }
   ],
   "source": [
    "print (\"Hello\")\n",
    "print (\"Welcome to all...\")"
   ]
  },
  {
   "cell_type": "code",
   "execution_count": 7,
   "id": "6a2b6ac1-36b0-4ce6-b2e8-517c2371b317",
   "metadata": {},
   "outputs": [],
   "source": [
    "# This is a comment line\n",
    "# This is another comment line\n",
    "# This is the last comment line\n",
    "# Use Ctrl+/ to make a block of codes commented and/or uncommented"
   ]
  },
  {
   "cell_type": "code",
   "execution_count": 9,
   "id": "5f963b83-2d35-432e-82f3-c4d603945eb6",
   "metadata": {},
   "outputs": [
    {
     "name": "stdin",
     "output_type": "stream",
     "text": [
      "Please enter the first number:  100\n",
      "Please enter the second number:  300\n"
     ]
    },
    {
     "name": "stdout",
     "output_type": "stream",
     "text": [
      "100 <class 'str'> 300 <class 'str'>\n",
      "So the total is 100300\n"
     ]
    }
   ],
   "source": [
    "num1 = input(\"Please enter the first number: \")\n",
    "num2 = input(\"Please enter the second number: \")\n",
    "print (num1, type(num1), num2, type(num2))\n",
    "total = num1 + num2\n",
    "print (\"So the total is\", total)"
   ]
  },
  {
   "cell_type": "code",
   "execution_count": 11,
   "id": "d8021f7e-9e1b-422b-a8cb-48d11449ca1b",
   "metadata": {},
   "outputs": [
    {
     "name": "stdin",
     "output_type": "stream",
     "text": [
      "Please enter the first number:  100\n",
      "Please enter the second number:  400\n"
     ]
    },
    {
     "name": "stdout",
     "output_type": "stream",
     "text": [
      "100 <class 'int'> 400 <class 'int'>\n",
      "So the total is 500\n"
     ]
    }
   ],
   "source": [
    "num1 = int(input(\"Please enter the first number: \"))\n",
    "num2 = int(input(\"Please enter the second number: \"))\n",
    "print (num1, type(num1), num2, type(num2))\n",
    "total = num1 + num2\n",
    "print (\"So the total is\", total)"
   ]
  },
  {
   "cell_type": "code",
   "execution_count": 28,
   "id": "e5e441ce-2cab-4985-8197-b912ad73dfb0",
   "metadata": {},
   "outputs": [
    {
     "name": "stdout",
     "output_type": "stream",
     "text": [
      "So the total of 100 and 400 is 500\n",
      "So the total of 100 and 400 is 500\n",
      "So the total of 100 and 400 is 500\n",
      "So the total of 100 and 400 is 500\n",
      "So the total of 100 and 400 is 500\n",
      "So the total of 100 and 400 is 500\n",
      "So the total of 100 and 400 is 500\n",
      "So the total of 100 and 400 is 500\n",
      "So the total of 100 and 400 is 500.000000\n",
      "So the total of 100 and 400 is  500.000\n",
      "So the total of 100 and 400 is 500\n"
     ]
    }
   ],
   "source": [
    "print (\"So the total of\", num1, \"and\", num2, \"is\", total)\n",
    "print (\"So the total of \" + str(num1) + \" and \" + str(num2) + \" is \" + str(total))\n",
    "print (\"So the total of {} and {} is {}\".format(num1, num2, total))   # {} is denoting a variable or value place holder\n",
    "print (\"So the total of {0} and {1} is {2}\".format(num1, num2, total))   # numbered place holder\n",
    "print (\"So the total of {2} and {0} is {1}\".format(num2, total, num1))\n",
    "print (\"So the total of {fnum} and {snum} is {tot}\".format(fnum = num1, snum = num2, tot = total))   # labelled place holder\n",
    "print (\"So the total of {fnum} and {snum} is {tot}\".format(tot = total, snum = num2, fnum = num1))\n",
    "print (\"So the total of %d and %d is %d\"%(num1, num2, total))\n",
    "print (\"So the total of %d and %d is %f\"%(num1, num2, total))\n",
    "print (\"So the total of %d and %d is %8.3f\"%(num1, num2, total))\n",
    "print (f\"So the total of {num1} and {num2} is {total}\")"
   ]
  },
  {
   "cell_type": "code",
   "execution_count": null,
   "id": "716113fa-464a-4bd4-86d8-23c46e25e85c",
   "metadata": {},
   "outputs": [],
   "source": []
  },
  {
   "cell_type": "code",
   "execution_count": null,
   "id": "1e946cc6-f61d-47af-9ad9-e673ff5e9559",
   "metadata": {},
   "outputs": [],
   "source": []
  },
  {
   "cell_type": "code",
   "execution_count": null,
   "id": "0845ae84-556e-4b9b-b2a3-eccf2e73428f",
   "metadata": {},
   "outputs": [],
   "source": []
  },
  {
   "cell_type": "code",
   "execution_count": null,
   "id": "17a5ff87-5ec1-434b-b48c-6a41f156be12",
   "metadata": {},
   "outputs": [],
   "source": []
  },
  {
   "cell_type": "code",
   "execution_count": null,
   "id": "ba6f84c5-2848-4acd-ad6d-ae496eb50f0c",
   "metadata": {},
   "outputs": [],
   "source": []
  }
 ],
 "metadata": {
  "kernelspec": {
   "display_name": "Python 3",
   "language": "python",
   "name": "python3"
  },
  "language_info": {
   "codemirror_mode": {
    "name": "ipython",
    "version": 3
   },
   "file_extension": ".py",
   "mimetype": "text/x-python",
   "name": "python",
   "nbconvert_exporter": "python",
   "pygments_lexer": "ipython3",
   "version": "3.8.8"
  }
 },
 "nbformat": 4,
 "nbformat_minor": 5
}
