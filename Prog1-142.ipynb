{
 "cells": [
  {
   "cell_type": "markdown",
   "id": "2a6a8e68-376b-4871-b67f-e6cb154cc3cf",
   "metadata": {},
   "source": [
    "### Python Download Link:\n",
    "\n",
    "Anaconda Download Link: https://www.anaconda.com/products/distribution"
   ]
  },
  {
   "cell_type": "markdown",
   "id": "bdbc8791-38e3-44de-bc11-a49066000150",
   "metadata": {},
   "source": [
    "### Online Python Editors:\n",
    "\n",
    "https://onecompiler.com/ <br>\n",
    "https://www.onlinegdb.com/"
   ]
  },
  {
   "cell_type": "markdown",
   "id": "51c02d86-c972-4a09-83c5-80d8add13aa3",
   "metadata": {},
   "source": [
    "### Python Study Material Links:\n",
    "\n",
    "* Python for you and me: https://pymbook.readthedocs.io/en/latest/\n",
    "* Python Practice Book: https://anandology.com/python-practice-book/index.html\n",
    "* Learn Python Programming (programmiz.com): https://www.programiz.com/python-programming\n",
    "* Learn Python Programming (data-flair): https://data-flair.training/blogs/python-tutorial/"
   ]
  },
  {
   "cell_type": "code",
   "execution_count": 6,
   "id": "c3122197-8c38-4666-b3bf-a5635c3d0f58",
   "metadata": {},
   "outputs": [
    {
     "name": "stdout",
     "output_type": "stream",
     "text": [
      "Hello\n",
      "Welcome to all...\n"
     ]
    }
   ],
   "source": [
    "print (\"Hello\")\n",
    "print (\"Welcome to all...\")"
   ]
  },
  {
   "cell_type": "code",
   "execution_count": 7,
   "id": "6a2b6ac1-36b0-4ce6-b2e8-517c2371b317",
   "metadata": {},
   "outputs": [],
   "source": [
    "# This is a comment line\n",
    "# This is another comment line\n",
    "# This is the last comment line\n",
    "# Use Ctrl+/ to make a block of codes commented and/or uncommented"
   ]
  },
  {
   "cell_type": "code",
   "execution_count": 9,
   "id": "5f963b83-2d35-432e-82f3-c4d603945eb6",
   "metadata": {},
   "outputs": [
    {
     "name": "stdin",
     "output_type": "stream",
     "text": [
      "Please enter the first number:  100\n",
      "Please enter the second number:  300\n"
     ]
    },
    {
     "name": "stdout",
     "output_type": "stream",
     "text": [
      "100 <class 'str'> 300 <class 'str'>\n",
      "So the total is 100300\n"
     ]
    }
   ],
   "source": [
    "num1 = input(\"Please enter the first number: \")\n",
    "num2 = input(\"Please enter the second number: \")\n",
    "print (num1, type(num1), num2, type(num2))\n",
    "total = num1 + num2\n",
    "print (\"So the total is\", total)"
   ]
  },
  {
   "cell_type": "code",
   "execution_count": 11,
   "id": "d8021f7e-9e1b-422b-a8cb-48d11449ca1b",
   "metadata": {},
   "outputs": [
    {
     "name": "stdin",
     "output_type": "stream",
     "text": [
      "Please enter the first number:  100\n",
      "Please enter the second number:  400\n"
     ]
    },
    {
     "name": "stdout",
     "output_type": "stream",
     "text": [
      "100 <class 'int'> 400 <class 'int'>\n",
      "So the total is 500\n"
     ]
    }
   ],
   "source": [
    "num1 = int(input(\"Please enter the first number: \"))\n",
    "num2 = int(input(\"Please enter the second number: \"))\n",
    "print (num1, type(num1), num2, type(num2))\n",
    "total = num1 + num2\n",
    "print (\"So the total is\", total)"
   ]
  },
  {
   "cell_type": "code",
   "execution_count": 28,
   "id": "e5e441ce-2cab-4985-8197-b912ad73dfb0",
   "metadata": {},
   "outputs": [
    {
     "name": "stdout",
     "output_type": "stream",
     "text": [
      "So the total of 100 and 400 is 500\n",
      "So the total of 100 and 400 is 500\n",
      "So the total of 100 and 400 is 500\n",
      "So the total of 100 and 400 is 500\n",
      "So the total of 100 and 400 is 500\n",
      "So the total of 100 and 400 is 500\n",
      "So the total of 100 and 400 is 500\n",
      "So the total of 100 and 400 is 500\n",
      "So the total of 100 and 400 is 500.000000\n",
      "So the total of 100 and 400 is  500.000\n",
      "So the total of 100 and 400 is 500\n"
     ]
    }
   ],
   "source": [
    "print (\"So the total of\", num1, \"and\", num2, \"is\", total)\n",
    "print (\"So the total of \" + str(num1) + \" and \" + str(num2) + \" is \" + str(total))\n",
    "print (\"So the total of {} and {} is {}\".format(num1, num2, total))   # {} is denoting a variable or value place holder\n",
    "print (\"So the total of {0} and {1} is {2}\".format(num1, num2, total))   # numbered place holder\n",
    "print (\"So the total of {2} and {0} is {1}\".format(num2, total, num1))\n",
    "print (\"So the total of {fnum} and {snum} is {tot}\".format(fnum = num1, snum = num2, tot = total))   # labelled place holder\n",
    "print (\"So the total of {fnum} and {snum} is {tot}\".format(tot = total, snum = num2, fnum = num1))\n",
    "print (\"So the total of %d and %d is %d\"%(num1, num2, total))\n",
    "print (\"So the total of %d and %d is %f\"%(num1, num2, total))\n",
    "print (\"So the total of %d and %d is %8.3f\"%(num1, num2, total))\n",
    "print (f\"So the total of {num1} and {num2} is {total}\")"
   ]
  },
  {
   "cell_type": "markdown",
   "id": "651e4776-1038-4320-ab41-cbc33bbfcf72",
   "metadata": {},
   "source": [
    "### Operators\n",
    "#### Arithmetic Operators"
   ]
  },
  {
   "cell_type": "code",
   "execution_count": 29,
   "id": "1e946cc6-f61d-47af-9ad9-e673ff5e9559",
   "metadata": {},
   "outputs": [
    {
     "name": "stdout",
     "output_type": "stream",
     "text": [
      "140\n",
      "60\n",
      "4000\n",
      "2.5\n",
      "2\n",
      "20\n",
      "100000000\n"
     ]
    }
   ],
   "source": [
    "# arithmetic operators: + - * / // % **\n",
    "print (100 + 40)   # addition\n",
    "print (100 - 40)   # subtraction\n",
    "print (100 * 40)   # multiplication\n",
    "print (100 / 40)   # float division\n",
    "print (100 // 40)  # integer division\n",
    "print (100 % 40)   # remainder of the division\n",
    "print (100 ** 4)   # exponentiation"
   ]
  },
  {
   "cell_type": "markdown",
   "id": "ff09e37c-4293-45a7-9dd3-4a9242ba7b07",
   "metadata": {},
   "source": [
    "#### Logical Operators"
   ]
  },
  {
   "cell_type": "code",
   "execution_count": 31,
   "id": "17a5ff87-5ec1-434b-b48c-6a41f156be12",
   "metadata": {},
   "outputs": [
    {
     "name": "stdout",
     "output_type": "stream",
     "text": [
      "False False False True\n",
      "False True True True\n",
      "False True\n"
     ]
    }
   ],
   "source": [
    "# logical operators: and, or, not\n",
    "print (False and False, False and True, True and False, True and True)\n",
    "print (False or False, False or True, True or False, True or True)\n",
    "print (not True, not False)"
   ]
  },
  {
   "cell_type": "markdown",
   "id": "809b9f91-287d-4bfe-bc3b-d2bf23564994",
   "metadata": {},
   "source": [
    "#### Relational Operators"
   ]
  },
  {
   "cell_type": "code",
   "execution_count": 39,
   "id": "6b72d1d8-850f-4d7e-bf76-03b4060b5b7d",
   "metadata": {},
   "outputs": [
    {
     "name": "stdout",
     "output_type": "stream",
     "text": [
      "True True False False True False\n"
     ]
    }
   ],
   "source": [
    "# relational operators: > >= < <= != ==\n",
    "print (100 > 20, 100 >= 20, 100 < 20, 100 <= 20, 100 != 20, 100 == 20)"
   ]
  },
  {
   "cell_type": "markdown",
   "id": "d58f775c-049b-4cb1-b688-302e900e5200",
   "metadata": {},
   "source": [
    "#### Unary and Binary Operators"
   ]
  },
  {
   "cell_type": "code",
   "execution_count": 38,
   "id": "c3124f02-4ba1-4883-bb1a-b8ade4a541bd",
   "metadata": {},
   "outputs": [
    {
     "name": "stdout",
     "output_type": "stream",
     "text": [
      "-100\n",
      "500\n"
     ]
    }
   ],
   "source": [
    "result = -100  # here - is a uniary operator, i.e it requires only one operand\n",
    "print (result)\n",
    "result = 100 + 400  # here + is a binary operator, i.e it requires two operands\n",
    "print (result)"
   ]
  },
  {
   "cell_type": "markdown",
   "id": "18e4ae11-e2b0-41c2-9953-44e702653b99",
   "metadata": {},
   "source": [
    "#### Ternary Operator"
   ]
  },
  {
   "cell_type": "code",
   "execution_count": 37,
   "id": "cb8b013a-be3e-4f60-b4bd-5b20a2d7b3a8",
   "metadata": {},
   "outputs": [
    {
     "name": "stdout",
     "output_type": "stream",
     "text": [
      "Even Number...\n",
      "Odd Number...\n"
     ]
    }
   ],
   "source": [
    "# ternary oprator requires three operands (or data) to operate (true-part, condition, false-part)\n",
    "num = 100\n",
    "result = \"Even Number...\" if (num % 2 == 0) else \"Odd Number...\"\n",
    "print (result)\n",
    "\n",
    "num = 101\n",
    "result = \"Even Number...\" if (num % 2 == 0) else \"Odd Number...\"\n",
    "print (result)"
   ]
  },
  {
   "cell_type": "markdown",
   "id": "241c46a2-b98a-49d9-af5a-8a9be91b5fa5",
   "metadata": {},
   "source": [
    "### Conditional Statements"
   ]
  },
  {
   "cell_type": "code",
   "execution_count": 13,
   "id": "043ff30c-303b-48f5-8b1f-7ee866754af7",
   "metadata": {},
   "outputs": [
    {
     "name": "stdin",
     "output_type": "stream",
     "text": [
      "Please enter the first number:  100\n",
      "Please enter the seocnd number:  300\n",
      "Please enter the third number:  200\n"
     ]
    },
    {
     "name": "stdout",
     "output_type": "stream",
     "text": [
      "So the maximum number is 300\n",
      "So the second number is the maximum number...\n",
      "End of the program...\n"
     ]
    }
   ],
   "source": [
    "# finding the maximum of three user given numbers\n",
    "num1 = int(input(\"Please enter the first number: \"))\n",
    "num2 = int(input(\"Please enter the seocnd number: \"))\n",
    "num3 = int(input(\"Please enter the third number: \"))\n",
    "if (num1 > num2):\n",
    "    if (num1 > num3):\n",
    "        print (\"So the maximum number is\", num1)\n",
    "        print (\"So the first number is the maximum number...\")\n",
    "    else:\n",
    "        print (\"So the maximum number is\", num3)\n",
    "        print (\"So the third number is the maximum number...\")\n",
    "elif (num2 > num3):\n",
    "    print (\"So the maximum number is\", num2)\n",
    "    print (\"So the second number is the maximum number...\")\n",
    "else:\n",
    "    print (\"So the maximum number is\", num3)\n",
    "    print (\"So the third number is the maximum number...\")\n",
    "print (\"End of the program...\")"
   ]
  },
  {
   "cell_type": "code",
   "execution_count": 16,
   "id": "78b95777-216a-4c2a-bc21-8e1438b8437b",
   "metadata": {},
   "outputs": [
    {
     "name": "stdin",
     "output_type": "stream",
     "text": [
      "Please enter the first number:  200\n",
      "Please enter the seocnd number:  100\n",
      "Please enter the third number:  300\n"
     ]
    },
    {
     "name": "stdout",
     "output_type": "stream",
     "text": [
      "So the maximum number is 300\n",
      "So the third number is the maximum number...\n",
      "End of the program...\n"
     ]
    }
   ],
   "source": [
    "# finding the maximum of three user given numbers\n",
    "num1 = int(input(\"Please enter the first number: \"))\n",
    "num2 = int(input(\"Please enter the seocnd number: \"))\n",
    "num3 = int(input(\"Please enter the third number: \"))\n",
    "if (num1 > num2 and num1 > num3):\n",
    "    print (\"So the maximum number is\", num1)\n",
    "    print (\"So the first number is the maximum number...\")\n",
    "elif (num2 > num3):\n",
    "    print (\"So the maximum number is\", num2)\n",
    "    print (\"So the second number is the maximum number...\")\n",
    "else:\n",
    "    print (\"So the maximum number is\", num3)\n",
    "    print (\"So the third number is the maximum number...\")\n",
    "print (\"End of the program...\")"
   ]
  },
  {
   "cell_type": "markdown",
   "id": "09bd9254-d6b5-4b00-b1b2-76b4c9f7e6f1",
   "metadata": {},
   "source": [
    "Logic Tracing -\n",
    "Step 1: In between num1 and num2 whichever is maximum number put it in max1 and the other number in max2\n",
    "Step 2: We shall deal with only max1, max2 and num3\n",
    "    \n",
    "                            max1         max2\n",
    "                            500          200\n",
    "       num3 =         700          400          100\n",
    "       2nd maximum =  500          400          200\n",
    "                      max1         num3         max2"
   ]
  },
  {
   "cell_type": "code",
   "execution_count": 22,
   "id": "bbb01097-aa01-4eb9-9850-c129f04f4bcd",
   "metadata": {},
   "outputs": [
    {
     "name": "stdin",
     "output_type": "stream",
     "text": [
      "Please enter the first number:  100\n",
      "Please enter the seocnd number:  200\n",
      "Please enter the third number:  300\n"
     ]
    },
    {
     "name": "stdout",
     "output_type": "stream",
     "text": [
      "So the second maximum is 200\n",
      "End of the program...\n"
     ]
    }
   ],
   "source": [
    "# find the second maximum of three user given numbers\n",
    "num1 = int(input(\"Please enter the first number: \"))\n",
    "num2 = int(input(\"Please enter the seocnd number: \"))\n",
    "num3 = int(input(\"Please enter the third number: \"))\n",
    "\n",
    "# Step - 1:\n",
    "if (num1 > num2): max1 = num1; max2 = num2\n",
    "else: max1 = num2; max2 = num1\n",
    "    \n",
    "# Step - 2:\n",
    "if (num3 > max1): print (\"So the second maximum is\", max1)\n",
    "elif (num3 > max2): print (\"So the second maximum is\", num3)\n",
    "else: print (\"So the second maximum is\", max2)\n",
    "    \n",
    "print (\"End of the program...\")"
   ]
  },
  {
   "cell_type": "markdown",
   "id": "b12f6f18-e4cb-44d5-b647-eceefb939738",
   "metadata": {},
   "source": [
    "### Iterative Statements: for, while loops"
   ]
  },
  {
   "cell_type": "code",
   "execution_count": 28,
   "id": "58f50656-13bb-41c8-9231-470a0ead3b27",
   "metadata": {},
   "outputs": [
    {
     "name": "stdout",
     "output_type": "stream",
     "text": [
      "i = 0, i = 1, i = 2, i = 3, i = 4, i = 5, i = 6, i = 7, i = 8, i = 9, \n",
      "i = 5, i = 6, i = 7, i = 8, i = 9, \n",
      "i = -10, i = -9, i = -8, i = -7, i = -6, i = -5, i = -4, i = -3, i = -2, i = -1, i = 0, i = 1, i = 2, i = 3, i = 4, i = 5, i = 6, i = 7, i = 8, i = 9, \n",
      "i = 1, i = 3, i = 5, i = 7, i = 9, "
     ]
    }
   ],
   "source": [
    "for i in range(10):\n",
    "    print (\"i =\", i, end = \", \")\n",
    "print ()\n",
    "for i in range(5, 10):\n",
    "    print (\"i =\", i, end = \", \")\n",
    "print ()\n",
    "for i in range(-10, 10):\n",
    "    print (\"i =\", i, end = \", \")\n",
    "print ()\n",
    "for i in range(1, 10, 2):\n",
    "    print (\"i =\", i, end = \", \")"
   ]
  },
  {
   "cell_type": "code",
   "execution_count": 32,
   "id": "38457d8c-e45a-490a-bcef-ac16e2fe1ba0",
   "metadata": {},
   "outputs": [
    {
     "name": "stdout",
     "output_type": "stream",
     "text": [
      "u, n, i, v, e, r, s, i, t, y, \n",
      "100, 200, 150, 110, 400, "
     ]
    }
   ],
   "source": [
    "for ch in \"university\":\n",
    "    print (ch, end = \", \")\n",
    "print ()\n",
    "for data in [100, 200, 150, 110, 400]:\n",
    "    print (data, end = \", \")"
   ]
  },
  {
   "cell_type": "code",
   "execution_count": 33,
   "id": "b289b509-1c0f-4341-a645-ccaa4e61c465",
   "metadata": {},
   "outputs": [
    {
     "name": "stdout",
     "output_type": "stream",
     "text": [
      "i = 1\n",
      "i = 2\n",
      "i = 3\n",
      "i = 4\n",
      "i = 5\n",
      "i = 6\n",
      "i = 7\n",
      "i = 8\n",
      "i = 9\n",
      "i = 10\n",
      "Else block is executing...\n",
      "End of the iteration...\n"
     ]
    }
   ],
   "source": [
    "for i in range(1, 11):\n",
    "    print (\"i =\", i)\n",
    "else:\n",
    "    print (\"Else block is executing...\")\n",
    "print (\"End of the iteration...\")"
   ]
  },
  {
   "cell_type": "code",
   "execution_count": 34,
   "id": "252d7ada-fe42-4cbd-9905-2b572b8305c3",
   "metadata": {},
   "outputs": [
    {
     "name": "stdout",
     "output_type": "stream",
     "text": [
      "i = 1\n",
      "i = 2\n",
      "i = 3\n",
      "i = 4\n",
      "i = 5\n",
      "End of the iteration...\n"
     ]
    }
   ],
   "source": [
    "for i in range(1, 11):\n",
    "    print (\"i =\", i)\n",
    "    if (i == 5): break\n",
    "else:\n",
    "    print (\"Else block is executing...\")\n",
    "print (\"End of the iteration...\")"
   ]
  },
  {
   "cell_type": "code",
   "execution_count": 35,
   "id": "581ada06-1b11-4fe3-b734-2d2ffb979116",
   "metadata": {},
   "outputs": [
    {
     "name": "stdout",
     "output_type": "stream",
     "text": [
      "i = 1\n",
      "i = 2\n",
      "i = 3\n",
      "i = 4\n",
      "Continue with i = 5\n",
      "i = 6\n",
      "i = 7\n",
      "Continue with i = 8\n",
      "i = 9\n",
      "i = 10\n",
      "Else block is executing...\n",
      "End of the iteration...\n"
     ]
    }
   ],
   "source": [
    "for i in range(1, 11):\n",
    "    if (i == 5 or i == 8):\n",
    "        print (\"Continue with i =\", i)\n",
    "        continue\n",
    "    print (\"i =\", i)\n",
    "else:\n",
    "    print (\"Else block is executing...\")\n",
    "print (\"End of the iteration...\")"
   ]
  },
  {
   "cell_type": "code",
   "execution_count": 1,
   "id": "4a250c62-6d81-4799-a8a2-3c06bdc8edc5",
   "metadata": {},
   "outputs": [
    {
     "name": "stdout",
     "output_type": "stream",
     "text": [
      "i = 1, i = 2, i = 3, i = 4, i = 5, i = 6, i = 7, i = 8, i = 9, i = 10, \n",
      "ELSE Block is executing...\n",
      "End of the while loop\n"
     ]
    }
   ],
   "source": [
    "i = 1\n",
    "while (i <= 10):\n",
    "    print (\"i =\", i, end = \", \")\n",
    "    i = i + 1\n",
    "else:\n",
    "    print ()\n",
    "    print (\"ELSE Block is executing...\")\n",
    "print (\"End of the while loop\")"
   ]
  },
  {
   "cell_type": "code",
   "execution_count": 3,
   "id": "b1130095-367b-4436-a8a3-a11ed19723ac",
   "metadata": {},
   "outputs": [
    {
     "name": "stdout",
     "output_type": "stream",
     "text": [
      "Visit Doctor...\n",
      "Good Morning...\n",
      "Day Number - 1 and Medicine Number - 1...\n",
      "Day Number - 1 and Medicine Number - 2...\n",
      "Day Number - 1 and Medicine Number - 3...\n",
      "Good night...\n",
      "----------------------------------------------------\n",
      "Good Morning...\n",
      "Day Number - 2 and Medicine Number - 1...\n",
      "Day Number - 2 and Medicine Number - 2...\n",
      "Day Number - 2 and Medicine Number - 3...\n",
      "Good night...\n",
      "----------------------------------------------------\n",
      "Good Morning...\n",
      "Day Number - 3 and Medicine Number - 1...\n",
      "Day Number - 3 and Medicine Number - 2...\n",
      "Day Number - 3 and Medicine Number - 3...\n",
      "Good night...\n",
      "----------------------------------------------------\n",
      "Good Morning...\n",
      "Day Number - 4 and Medicine Number - 1...\n",
      "Day Number - 4 and Medicine Number - 2...\n",
      "Day Number - 4 and Medicine Number - 3...\n",
      "Good night...\n",
      "----------------------------------------------------\n",
      "Good Morning...\n",
      "Day Number - 5 and Medicine Number - 1...\n",
      "Day Number - 5 and Medicine Number - 2...\n",
      "Day Number - 5 and Medicine Number - 3...\n",
      "Good night...\n",
      "----------------------------------------------------\n",
      "Thanks to Doctor...\n",
      "Total number of medicines consumed is 15\n",
      "End of the program...\n"
     ]
    }
   ],
   "source": [
    "# nested looping\n",
    "print (\"Visit Doctor...\")  # 1 time\n",
    "medicount = 0\n",
    "for day in range(1, 6):\n",
    "    print (\"Good Morning...\")  # 5 times\n",
    "    for medi in range(1, 4):\n",
    "        print (f\"Day Number - {day} and Medicine Number - {medi}...\")   # 15 times\n",
    "        medicount += 1\n",
    "    print (\"Good night...\")  # 5 times\n",
    "    print (\"----------------------------------------------------\")   # 5 times\n",
    "print (\"Thanks to Doctor...\")  # 1 time\n",
    "print (\"Total number of medicines consumed is\", medicount)\n",
    "print (\"End of the program...\")  # 1 time"
   ]
  },
  {
   "cell_type": "code",
   "execution_count": 4,
   "id": "8e192f47-0f26-4717-aa3b-bc9ebe4f1afe",
   "metadata": {},
   "outputs": [
    {
     "name": "stdout",
     "output_type": "stream",
     "text": [
      "Visit Doctor...\n",
      "Good Morning...\n",
      "Day Number - 1 and Medicine Number - 1...\n",
      "Day Number - 1 and Medicine Number - 2...\n",
      "Day Number - 1 and Medicine Number - 3...\n",
      "Good night...\n",
      "----------------------------------------------------\n",
      "Good Morning...\n",
      "Day Number - 2 and Medicine Number - 1...\n",
      "Day Number - 2 and Medicine Number - 2...\n",
      "Day Number - 2 and Medicine Number - 3...\n",
      "Good night...\n",
      "----------------------------------------------------\n",
      "Good Morning...\n",
      "Day Number - 3 and Medicine Number - 1...\n",
      "Day Number - 3 and Medicine Number - 2...\n",
      "Day Number - 3 and Medicine Number - 3...\n",
      "Good night...\n",
      "----------------------------------------------------\n",
      "Good Morning...\n",
      "Day Number - 4 and Medicine Number - 1...\n",
      "Day Number - 4 and Medicine Number - 2...\n",
      "Day Number - 4 and Medicine Number - 3...\n",
      "Good night...\n",
      "----------------------------------------------------\n",
      "Good Morning...\n",
      "Day Number - 5 and Medicine Number - 1...\n",
      "Day Number - 5 and Medicine Number - 2...\n",
      "Day Number - 5 and Medicine Number - 3...\n",
      "Good night...\n",
      "----------------------------------------------------\n",
      "Thanks to Doctor...\n",
      "Total number of medicines consumed is 15\n",
      "End of the program...\n"
     ]
    }
   ],
   "source": [
    "# nested looping\n",
    "print (\"Visit Doctor...\")  # 1 time\n",
    "medicount = 0\n",
    "for day in range(1, 6):\n",
    "    print (\"Good Morning...\")  # 5 times\n",
    "    medi = 1\n",
    "    while (medi <= 3):\n",
    "        print (f\"Day Number - {day} and Medicine Number - {medi}...\")   # 15 times\n",
    "        medicount += 1\n",
    "        medi += 1\n",
    "    print (\"Good night...\")  # 5 times\n",
    "    print (\"----------------------------------------------------\")   # 5 times\n",
    "print (\"Thanks to Doctor...\")  # 1 time\n",
    "print (\"Total number of medicines consumed is\", medicount)\n",
    "print (\"End of the program...\")  # 1 time"
   ]
  },
  {
   "cell_type": "code",
   "execution_count": 7,
   "id": "1504203a-60b9-4822-9320-9ea37e086a8b",
   "metadata": {},
   "outputs": [
    {
     "name": "stdout",
     "output_type": "stream",
     "text": [
      "Hello Hello Hello Hello Hello \n",
      "Hi !!! Hi !!! Hi !!! Hi !!! Hi !!! Hi !!! Hi !!! Hi !!! Hi !!! Hi !!! \n"
     ]
    }
   ],
   "source": [
    "print (\"Hello \" * 5)\n",
    "print (\"Hi !!! \" * 10)"
   ]
  },
  {
   "cell_type": "code",
   "execution_count": null,
   "id": "94d54e68-6991-4e5a-9405-7ef574f6fcf6",
   "metadata": {},
   "outputs": [],
   "source": [
    "Pattern - 1\n",
    "n = 6 (User given integer layer number)\n",
    "                 i    .    *  \n",
    "              ----------------\n",
    ".....*           1    5    1        (i, n)\n",
    "....***          2    4    3   . => (n - i)\n",
    "...*****         3    3    5\n",
    "..*******        4    2    7   * => (2 * i - 1)\n",
    ".*********       5    1    9\n",
    "***********      6    0   11\n",
    "              ----------------"
   ]
  },
  {
   "cell_type": "code",
   "execution_count": 13,
   "id": "4c7d9fc9-aa05-438c-a044-01a2a55524f7",
   "metadata": {},
   "outputs": [
    {
     "name": "stdin",
     "output_type": "stream",
     "text": [
      "Please enter the number of layers:  6\n"
     ]
    },
    {
     "name": "stdout",
     "output_type": "stream",
     "text": [
      ".....*\n",
      "....***\n",
      "...*****\n",
      "..*******\n",
      ".*********\n",
      "***********\n",
      "End of the program...\n"
     ]
    }
   ],
   "source": [
    "n = int(input(\"Please enter the number of layers: \"))\n",
    "for i in range(1, n + 1):\n",
    "    print (\".\" * (n - i) + \"*\" * (2 * i - 1))\n",
    "print (\"End of the program...\")"
   ]
  },
  {
   "cell_type": "code",
   "execution_count": null,
   "id": "98535bd4-3992-4d14-82e2-f9d0732eae2b",
   "metadata": {},
   "outputs": [],
   "source": [
    "Pattern - 2\n",
    "n = 6 (User given integer layer number)\n",
    "                 i    .    *  \n",
    "              ----------------\n",
    "***********      1    0   11        (i, n)\n",
    ".*********       2    1    9   . => (i - 1)\n",
    "..*******        3    2    7\n",
    "...*****         4    3    5   * => (2 * (n - i) + 1)\n",
    "....***          5    4    3\n",
    ".....*           6    5    1\n",
    "              ----------------"
   ]
  },
  {
   "cell_type": "code",
   "execution_count": 16,
   "id": "6bba841c-87f9-4d5c-9127-4b2da2bb2939",
   "metadata": {},
   "outputs": [
    {
     "name": "stdin",
     "output_type": "stream",
     "text": [
      "Please enter the number of layers:  6\n"
     ]
    },
    {
     "name": "stdout",
     "output_type": "stream",
     "text": [
      "***********\n",
      ".*********\n",
      "..*******\n",
      "...*****\n",
      "....***\n",
      ".....*\n",
      "End of the program...\n"
     ]
    }
   ],
   "source": [
    "n = int(input(\"Please enter the number of layers: \"))\n",
    "for i in range(1, n + 1):\n",
    "    print (\".\" * (i - 1) + \"*\" * (2 * (n - i) + 1))\n",
    "print (\"End of the program...\")"
   ]
  },
  {
   "cell_type": "code",
   "execution_count": null,
   "id": "ee50cd17-f615-488b-80be-920c507ef34c",
   "metadata": {},
   "outputs": [],
   "source": [
    "Pattern - 3\n",
    "n = 11 (User given ODD integer layer number)  m = (n + 1) // 2 = 6\n",
    "                 i    .    *  \n",
    "              ----------------\n",
    ".....*           1    5    1        (i, m, n)\n",
    "....***          2    4    3   . => (m - i)\n",
    "...*****         3    3    5\n",
    "..*******        4    2    7   * => (2 * i - 1)\n",
    ".*********       5    1    9\n",
    "***********    __6____0___11__\n",
    ".*********       7    1    9\n",
    "..*******        8    2    7   . => (i - m)\n",
    "...*****         9    3    5\n",
    "....***         10    4    3   * => (2 * (n - i) + 1)\n",
    ".....*          11    5    1\n",
    "              ----------------"
   ]
  },
  {
   "cell_type": "code",
   "execution_count": 20,
   "id": "3bd007d5-c74f-48ed-9504-3457b6ff1be2",
   "metadata": {},
   "outputs": [
    {
     "name": "stdin",
     "output_type": "stream",
     "text": [
      "Please enter the ODD number of layers:  12\n",
      "Please enter the ODD number of layers:  18\n",
      "Please enter the ODD number of layers:  14\n",
      "Please enter the ODD number of layers:  10\n",
      "Please enter the ODD number of layers:  6\n",
      "Please enter the ODD number of layers:  11\n"
     ]
    },
    {
     "name": "stdout",
     "output_type": "stream",
     "text": [
      ".....*\n",
      "....***\n",
      "...*****\n",
      "..*******\n",
      ".*********\n",
      "***********\n",
      ".*********\n",
      "..*******\n",
      "...*****\n",
      "....***\n",
      ".....*\n",
      "End of the program...\n"
     ]
    }
   ],
   "source": [
    "while (True):\n",
    "    n = int(input(\"Please enter the ODD number of layers: \"))\n",
    "    if (n % 2 == 1): break\n",
    "m = (n + 1) // 2\n",
    "for i in range(1, n + 1):\n",
    "    if (i > m): b = (i - m); s = (2 * (n - i) + 1)\n",
    "    else: b = (m - i); s = (2 * i - 1)\n",
    "    print (\".\" * b + \"*\" * s)\n",
    "print (\"End of the program...\")"
   ]
  },
  {
   "cell_type": "markdown",
   "id": "27a6efbd-3fbb-418a-9478-ab802ca82b66",
   "metadata": {},
   "source": [
    "### Python Functions"
   ]
  },
  {
   "cell_type": "code",
   "execution_count": 3,
   "id": "36950880-e8d2-420c-89d5-e3ef1854861e",
   "metadata": {},
   "outputs": [
    {
     "name": "stdout",
     "output_type": "stream",
     "text": [
      "Hello Hello Hello Hello Hello \n",
      "Hello Hello Hello Hello Hello \n",
      "Hello Hello Hello Hello Hello \n",
      "Hello Hello Hello Hello Hello \n"
     ]
    }
   ],
   "source": [
    "def funct1():\n",
    "    print (\"Hello \" * 5)\n",
    "    \n",
    "funct1()\n",
    "funct1()\n",
    "funct1()\n",
    "funct1()"
   ]
  },
  {
   "cell_type": "code",
   "execution_count": 4,
   "id": "fdf8ad80-9c8a-4622-b360-c5db9b213a9c",
   "metadata": {},
   "outputs": [
    {
     "name": "stdout",
     "output_type": "stream",
     "text": [
      "Welcome Welcome Welcome Welcome \n",
      "Hello !!! Hello !!! Hello !!! \n",
      "Good Bye Good Bye Good Bye Good Bye Good Bye Good Bye Good Bye Good Bye Good Bye Good Bye \n"
     ]
    }
   ],
   "source": [
    "def funct2(msg, times):  # positional parameters\n",
    "    print (msg * times)\n",
    "    \n",
    "funct2(\"Welcome \", 4)    # positional arguments\n",
    "funct2(\"Hello !!! \", 3)\n",
    "funct2(\"Good Bye \", 10)"
   ]
  },
  {
   "cell_type": "code",
   "execution_count": 7,
   "id": "9a15b72a-1e3e-4e6b-8afe-b446288b23b6",
   "metadata": {},
   "outputs": [
    {
     "name": "stdout",
     "output_type": "stream",
     "text": [
      "<class 'str'>\n",
      "Welcome Welcome Welcome Welcome \n",
      "Hello Hello Hello Hello Hello Hello Hello Hello Hello Hello \n",
      "Good Bye !!! Good Bye !!! Good Bye !!! Good Bye !!! Good Bye !!! Good Bye !!! Good Bye !!! Good Bye !!! Good Bye !!! Good Bye !!! \n"
     ]
    }
   ],
   "source": [
    "def funct3(msg, times):\n",
    "    return msg * times\n",
    "\n",
    "result = funct3(\"Welcome \", 4)\n",
    "print (type(result))\n",
    "print (result)\n",
    "result = funct3(\"Hello \", 10)\n",
    "print (result)\n",
    "print (funct3(\"Good Bye !!! \", 10))"
   ]
  },
  {
   "cell_type": "code",
   "execution_count": 16,
   "id": "30d62779-9b49-4920-ae33-d6a38eddfcbc",
   "metadata": {},
   "outputs": [
    {
     "name": "stdout",
     "output_type": "stream",
     "text": [
      "par1 = 100, par2 = 200 and par3 = 300...\n",
      "par1 = 100, par2 = 200 and par3 = 333...\n",
      "par1 = 100, par2 = 222 and par3 = 333...\n",
      "par1 = 111, par2 = 222 and par3 = 333...\n",
      "par1 = 100, par2 = 200 and par3 = 300...\n",
      "par1 = 111, par2 = 200 and par3 = 300...\n"
     ]
    }
   ],
   "source": [
    "# function with default arguments\n",
    "def funct4(par1 = 111, par2 = 222, par3 = 333):\n",
    "    print (f\"par1 = {par1}, par2 = {par2} and par3 = {par3}...\")\n",
    "    \n",
    "funct4(100, 200, 300)\n",
    "funct4(100, 200)\n",
    "funct4(100)\n",
    "funct4()\n",
    "funct4(par2 = 200, par3 = 300, par1 = 100)\n",
    "funct4(par2 = 200, par3 = 300)"
   ]
  },
  {
   "cell_type": "code",
   "execution_count": 21,
   "id": "23bb9ddc-90a0-4627-8330-2120cfd14910",
   "metadata": {},
   "outputs": [
    {
     "name": "stdout",
     "output_type": "stream",
     "text": [
      "500\n",
      "1000\n",
      "400\n"
     ]
    }
   ],
   "source": [
    "def funct5(par1, par2 = None):\n",
    "    # if (par2 == None):\n",
    "    if (par2 is None):\n",
    "        return par1 + par1\n",
    "    else:\n",
    "        return par1 + par2\n",
    "    \n",
    "print (funct5(100, 400))\n",
    "print (funct5(100, 900))\n",
    "print (funct5(200))"
   ]
  },
  {
   "cell_type": "code",
   "execution_count": 25,
   "id": "673053dc-2148-4e55-a8ad-e617e67a484c",
   "metadata": {},
   "outputs": [
    {
     "name": "stdout",
     "output_type": "stream",
     "text": [
      "Total = 140, Difference = 60, Product = 4000 and Quotient = 2.5...\n",
      "(140, 60, 4000, 2.5) 4 <class 'tuple'>\n",
      "Total = 140, Difference = 60, Product = 4000 and Quotient = 2.5...\n"
     ]
    }
   ],
   "source": [
    "# function returns multiple values at a time\n",
    "def funct6(num1, num2):\n",
    "    tot = num1 + num2\n",
    "    dif = num1 - num2\n",
    "    pro = num1 * num2\n",
    "    quo = num1 / num2\n",
    "    return tot, dif, pro, quo\n",
    "\n",
    "total, difference, product, quotient = funct6(100, 40)\n",
    "print (f\"Total = {total}, Difference = {difference}, Product = {product} and Quotient = {quotient}...\")\n",
    "result = funct6(100, 40)\n",
    "print (result, len(result), type(result))\n",
    "print (f\"Total = {result[0]}, Difference = {result[1]}, Product = {result[2]} and Quotient = {result[3]}...\")"
   ]
  },
  {
   "cell_type": "code",
   "execution_count": 31,
   "id": "3a035048-62ea-422b-814d-fde90cdbb0e2",
   "metadata": {},
   "outputs": [
    {
     "name": "stdout",
     "output_type": "stream",
     "text": [
      "Looping for i = 2\n",
      "Looping for i = 3\n",
      "Looping for i = 4\n",
      "So the factorial of n = 5 is result = 120...\n",
      "\n",
      "Looping for i = 2\n",
      "Looping for i = 3\n",
      "Looping for i = 4\n",
      "Looping for i = 5\n",
      "So the factorial of n = 6 is result = 720...\n"
     ]
    }
   ],
   "source": [
    "# non-recursive function (iterative function), iteration stands for looping\n",
    "# 5! = 1 * 2 * 3 * 4 * 5 = 120\n",
    "# n! = 1 * 2 * 3 * ... * (n - 1) * n\n",
    "# 0! = 1! = 1\n",
    "def factorial_nr(num):\n",
    "    if (num == 0 or num == 1): return 1\n",
    "    fact = num\n",
    "    for i in range(2, num):\n",
    "        print (f\"Looping for i = {i}\")\n",
    "        fact = fact * i\n",
    "    return fact\n",
    "\n",
    "n = 5\n",
    "result = factorial_nr(n)\n",
    "print (f\"So the factorial of n = {n} is result = {result}...\")\n",
    "print ()\n",
    "n = 6\n",
    "result = factorial_nr(n)\n",
    "print (f\"So the factorial of n = {n} is result = {result}...\")"
   ]
  },
  {
   "cell_type": "code",
   "execution_count": 33,
   "id": "56a33d06-fd15-4ed0-9d41-6de17d9cba82",
   "metadata": {},
   "outputs": [
    {
     "name": "stdout",
     "output_type": "stream",
     "text": [
      "So the factorial of n = 5 is result = 120...\n",
      "\n",
      "So the factorial of n = 6 is result = 720...\n"
     ]
    }
   ],
   "source": [
    "# recursive function: It has two cases - 1. Base case, 2. Recursive case (The function will call itself)\n",
    "# 5! = 5 * 4 * 3 * 2 * 1 = 120\n",
    "# 5! = 5 * 4!\n",
    "# n! = 1 * 2 * 3 * ... * (n - 1) * n\n",
    "# 0! = 1! = 1\n",
    "def factorial_r(num):\n",
    "    if (num == 0 or num == 1): return 1   # Base case: for certain inputs, outputs are pre-known to us\n",
    "    return num * factorial_r(num - 1)     # Recursive case: The function will call itself\n",
    "\n",
    "n = 5\n",
    "result = factorial_r(n)\n",
    "print (f\"So the factorial of n = {n} is result = {result}...\")\n",
    "print ()\n",
    "n = 6\n",
    "result = factorial_r(n)\n",
    "print (f\"So the factorial of n = {n} is result = {result}...\")"
   ]
  },
  {
   "cell_type": "markdown",
   "id": "c6594e30-9945-42b7-b0a3-95064be91673",
   "metadata": {},
   "source": [
    "5! = 5 * 4!\n",
    "         4 * 3!\n",
    "             3 * 2!\n",
    "                 2 * 1!\n",
    "                     1\n",
    "                 2\n",
    "             6\n",
    "         24\n",
    "     120"
   ]
  },
  {
   "cell_type": "code",
   "execution_count": 36,
   "id": "1d4cc384-a6d8-4040-b22e-4263b7a299da",
   "metadata": {},
   "outputs": [
    {
     "name": "stdout",
     "output_type": "stream",
     "text": [
      "11 , 13 , 17 , 19 , 23 , 29 , 31 , 37 , 41 , 43 , 47 , 53 , 59 , 61 , 67 , 71 , 73 , 79 , 83 , 89 , 97 , 101 , 103 , 107 , 109 , 113 , 127 , 131 , 137 , 139 , 149 , 151 , 157 , 163 , 167 , 173 , 179 , 181 , 191 , 193 , 197 , 199 , 211 , 223 , 227 , 229 , 233 , 239 , 241 , 251 , 257 , 263 , 269 , 271 , 277 , 281 , 283 , 293 , 307 , 311 , 313 , 317 , 331 , 337 , 347 , 349 , 353 , 359 , 367 , 373 , 379 , 383 , 389 , 397 , 401 , 409 , 419 , 421 , 431 , 433 , 439 , 443 , 449 , 457 , 461 , 463 , 467 , 479 , 487 , 491 , 499 , \n"
     ]
    }
   ],
   "source": [
    "# calling one function from another function\n",
    "# prime number: 13, 17, 19, 23, 29\n",
    "# 100 => (1, 100), (2, 50), (4, 25), (5, 20), (10, 10)\n",
    "def prime_check(num):\n",
    "    for factor in range(2, int(num ** 0.5) + 1):\n",
    "        if (num % factor == 0): return False\n",
    "    return True\n",
    "\n",
    "def prime_find(llimit, ulimit):\n",
    "    for num in range(llimit, ulimit + 1):\n",
    "        if (prime_check(num)):\n",
    "            print (num,\", \", end = \"\")\n",
    "            \n",
    "prime_find(10, 500)\n",
    "print ()"
   ]
  },
  {
   "cell_type": "markdown",
   "id": "e2b8e577-520c-4ffc-b4cd-064e64844cc3",
   "metadata": {},
   "source": [
    "### Import Module: Math"
   ]
  },
  {
   "cell_type": "code",
   "execution_count": 52,
   "id": "6e8a71b4-1166-4d51-8efd-de286d0bf5e2",
   "metadata": {},
   "outputs": [
    {
     "name": "stdout",
     "output_type": "stream",
     "text": [
      "0.0 1.0 0.0\n",
      "10.0 10.488088481701515\n",
      "100 100 101 101\n",
      "120 720\n",
      "2.718281828459045 3.141592653589793 6.283185307179586\n",
      "6.931471805599453 6.931471805599453 3.0102999566398116 3.010299956639812 10.0 10.0\n",
      "20 200.0\n"
     ]
    }
   ],
   "source": [
    "import math\n",
    "print (math.sin(0), math.cos(0), math.tan(0))\n",
    "print (math.sqrt(100), math.sqrt(110))\n",
    "print (math.floor(100.1), math.floor(100.9), math.ceil(100.1), math.ceil(100.9))\n",
    "print (math.factorial(5), math.factorial(6))\n",
    "print (math.e, math.pi, math.tau)\n",
    "print (math.log(1024), math.log(1024, math.e), math.log(1024, 10), math.log10(1024), math.log(1024, 2), math.log2(1024))\n",
    "print (math.gcd(100, 40), (100 * 40) / math.gcd(100, 40))"
   ]
  },
  {
   "cell_type": "code",
   "execution_count": null,
   "id": "1372870d-d85e-4695-84f8-95c086b47701",
   "metadata": {},
   "outputs": [],
   "source": [
    "help(math)"
   ]
  },
  {
   "cell_type": "markdown",
   "id": "87960e9d-f26f-4304-9345-8c36c711de46",
   "metadata": {},
   "source": [
    "### String Processing"
   ]
  },
  {
   "cell_type": "markdown",
   "id": "6cf68beb-4388-4d71-8830-423a9f36354b",
   "metadata": {},
   "source": [
    "L to R ->   0  1  2  3  4  5  6  7  8  9\n",
    "  mystr =   u  n  i  v  e  r  s  i  t  y\n",
    "R to L -> -10 -9 -8 -7 -6 -5 -4 -3 -2 -1"
   ]
  },
  {
   "cell_type": "code",
   "execution_count": 7,
   "id": "a8005259-804a-4115-86af-11e96b042340",
   "metadata": {},
   "outputs": [
    {
     "name": "stdout",
     "output_type": "stream",
     "text": [
      "university 10 <class 'str'> 1972343046448\n",
      "v v t t\n",
      "univer univer univer univer\n",
      "sity sity\n",
      "ver ver ver ver\n"
     ]
    }
   ],
   "source": [
    "mystr = \"university\"\n",
    "print (mystr, len(mystr), type(mystr), id(mystr))\n",
    "print (mystr[3], mystr[-7], mystr[8], mystr[-2])   # indexing\n",
    "print (mystr[0:6], mystr[:6], mystr[-10:-4], mystr[:-4])   # slicing\n",
    "print (mystr[6:], mystr[-4:])\n",
    "print (mystr[3:6], mystr[-7:-4], mystr[3:-4], mystr[-7:6])"
   ]
  },
  {
   "cell_type": "code",
   "execution_count": 8,
   "id": "5451e269-8309-49be-9281-4a559bd0da56",
   "metadata": {},
   "outputs": [
    {
     "name": "stdout",
     "output_type": "stream",
     "text": [
      "STANDFORD UNIVERSITY\n",
      "standford university\n",
      "Standford university\n",
      "STanDFOrD UNIvERsITy\n",
      "Standford University\n"
     ]
    }
   ],
   "source": [
    "mystr = \"stANdfoRd uniVerSitY\"\n",
    "print (mystr.upper())\n",
    "print (mystr.lower())\n",
    "print (mystr.capitalize())\n",
    "print (mystr.swapcase())\n",
    "print (mystr.title())"
   ]
  },
  {
   "cell_type": "code",
   "execution_count": 12,
   "id": "028ca075-c757-4d9e-9e4b-12a8a4dd8769",
   "metadata": {},
   "outputs": [
    {
     "name": "stdout",
     "output_type": "stream",
     "text": [
      "1234 True False True\n",
      "abcd False True True\n",
      "1234abcd False False True\n",
      "1234@abcd False False False\n"
     ]
    }
   ],
   "source": [
    "mystr = \"1234\"\n",
    "print (mystr, mystr.isnumeric(), mystr.isalpha(), mystr.isalnum())\n",
    "mystr = \"abcd\"\n",
    "print (mystr, mystr.isnumeric(), mystr.isalpha(), mystr.isalnum())\n",
    "mystr = \"1234abcd\"\n",
    "print (mystr, mystr.isnumeric(), mystr.isalpha(), mystr.isalnum())\n",
    "mystr = \"1234@abcd\"\n",
    "print (mystr, mystr.isnumeric(), mystr.isalpha(), mystr.isalnum())"
   ]
  },
  {
   "cell_type": "code",
   "execution_count": 17,
   "id": "5bbad920-8d08-4327-9ed2-724f7f5c33f9",
   "metadata": {},
   "outputs": [
    {
     "name": "stdout",
     "output_type": "stream",
     "text": [
      "good morning\n",
      "good night\n"
     ]
    }
   ],
   "source": [
    "mystr = \"good morning\"\n",
    "print (mystr)\n",
    "mystr = mystr.replace(\"morning\", \"night\")\n",
    "print (mystr)"
   ]
  },
  {
   "cell_type": "code",
   "execution_count": 20,
   "id": "03596ae5-a1ae-4513-bba0-8d85bb31eef8",
   "metadata": {},
   "outputs": [
    {
     "name": "stdout",
     "output_type": "stream",
     "text": [
      "    good      morning    24\n",
      "good      morning 17\n",
      "good      morning    20\n",
      "    good      morning 21\n"
     ]
    }
   ],
   "source": [
    "mystr = \"    good      morning   \"\n",
    "print (mystr, len(mystr))\n",
    "result = mystr.strip()\n",
    "print (result, len(result))\n",
    "result = mystr.lstrip()\n",
    "print (result, len(result))\n",
    "result = mystr.rstrip()\n",
    "print (result, len(result))"
   ]
  },
  {
   "cell_type": "code",
   "execution_count": 23,
   "id": "127a3047-0289-4f7f-b8b4-31284cbbe9d9",
   "metadata": {},
   "outputs": [
    {
     "name": "stdout",
     "output_type": "stream",
     "text": [
      "['u', 'n', 'i', 'v', 'e', 'r', 's', 'i', 't', 'y']\n",
      "('u', 'n', 'i', 'v', 'e', 'r', 's', 'i', 't', 'y')\n",
      "{'u', 's', 'v', 'i', 't', 'r', 'e', 'y', 'n'}\n"
     ]
    }
   ],
   "source": [
    "mystr = \"university\"\n",
    "print (list(mystr))\n",
    "print (tuple(mystr))\n",
    "print (set(mystr))"
   ]
  },
  {
   "cell_type": "code",
   "execution_count": 24,
   "id": "37577dd5-bea5-4372-bc98-97e6bdb2844f",
   "metadata": {},
   "outputs": [
    {
     "name": "stdin",
     "output_type": "stream",
     "text": [
      "Please enter your word:  madam\n"
     ]
    },
    {
     "name": "stdout",
     "output_type": "stream",
     "text": [
      "m\n",
      "a\n",
      "d\n",
      "a\n",
      "m\n"
     ]
    }
   ],
   "source": [
    "myword = input(\"Please enter your word: \")\n",
    "for ch in myword:\n",
    "    print (ch)"
   ]
  },
  {
   "cell_type": "code",
   "execution_count": 26,
   "id": "7f109a52-5445-4401-a517-c277d390e68f",
   "metadata": {},
   "outputs": [
    {
     "name": "stdin",
     "output_type": "stream",
     "text": [
      "Please enter your word:  madam\n"
     ]
    },
    {
     "name": "stdout",
     "output_type": "stream",
     "text": [
      "0 m\n",
      "1 a\n",
      "2 d\n",
      "3 a\n",
      "4 m\n"
     ]
    }
   ],
   "source": [
    "myword = input(\"Please enter your word: \")\n",
    "for i in range(len(myword)):\n",
    "    print (i, myword[i])"
   ]
  },
  {
   "cell_type": "code",
   "execution_count": 29,
   "id": "fd1d7394-e06f-4815-9fed-9651929a6331",
   "metadata": {},
   "outputs": [
    {
     "name": "stdin",
     "output_type": "stream",
     "text": [
      "Please enter your word:  uNIverSitY\n"
     ]
    },
    {
     "name": "stdout",
     "output_type": "stream",
     "text": [
      "So the number of vowels = 4 and consonants = 6 for the word = university...\n"
     ]
    }
   ],
   "source": [
    "# find the number of vowels and consonants in a given string\n",
    "myword = input(\"Please enter your word: \").lower()\n",
    "vcount = 0\n",
    "for ch in myword:\n",
    "    if ch in \"aeiou\":\n",
    "        vcount += 1\n",
    "ccount = len(myword) - vcount        \n",
    "print (f\"So the number of vowels = {vcount} and consonants = {ccount} for the word = {myword}...\")"
   ]
  },
  {
   "cell_type": "markdown",
   "id": "a837d28a-b8ba-41e7-a142-28e36b4de767",
   "metadata": {},
   "source": [
    "### List Processing"
   ]
  },
  {
   "cell_type": "code",
   "execution_count": 32,
   "id": "5a1c0433-e00f-4d28-a964-50e05b61ac26",
   "metadata": {},
   "outputs": [
    {
     "name": "stdout",
     "output_type": "stream",
     "text": [
      "[100, 300, 200, 500, 400] 5 1972345668992 <class 'list'>\n",
      "500 100\n",
      "1500 300.0\n"
     ]
    }
   ],
   "source": [
    "list1 = [100, 300, 200, 500, 400]\n",
    "print (list1, len(list1), id(list1), type(list1))\n",
    "print (max(list1), min(list1))\n",
    "print (sum(list1), sum(list1) / len(list1))"
   ]
  },
  {
   "cell_type": "code",
   "execution_count": 37,
   "id": "e10a3588-2e4b-4634-91cf-590e00c0447c",
   "metadata": {},
   "outputs": [
    {
     "name": "stdout",
     "output_type": "stream",
     "text": [
      "['red', 'green', 'blue', 'white', 'purple'] 5 1972349595520 <class 'list'>\n",
      "white blue\n"
     ]
    }
   ],
   "source": [
    "list1 = ['red', 'green', 'blue', 'white', 'purple']\n",
    "print (list1, len(list1), id(list1), type(list1))\n",
    "print (max(list1), min(list1))\n",
    "# print (sum(list1), sum(list1) / len(list1))"
   ]
  },
  {
   "cell_type": "code",
   "execution_count": 38,
   "id": "a7a54311-24a7-427f-a47a-03daae95fb4a",
   "metadata": {},
   "outputs": [
    {
     "name": "stdout",
     "output_type": "stream",
     "text": [
      "['red', 'green', 100, 'blue', 200, 'white', 'purple'] 7 1972348683648 <class 'list'>\n"
     ]
    },
    {
     "ename": "TypeError",
     "evalue": "unsupported operand type(s) for +: 'int' and 'str'",
     "output_type": "error",
     "traceback": [
      "\u001b[1;31m---------------------------------------------------------------------------\u001b[0m",
      "\u001b[1;31mTypeError\u001b[0m                                 Traceback (most recent call last)",
      "\u001b[1;32m<ipython-input-38-add664c692d8>\u001b[0m in \u001b[0;36m<module>\u001b[1;34m\u001b[0m\n\u001b[0;32m      2\u001b[0m \u001b[0mprint\u001b[0m \u001b[1;33m(\u001b[0m\u001b[0mlist1\u001b[0m\u001b[1;33m,\u001b[0m \u001b[0mlen\u001b[0m\u001b[1;33m(\u001b[0m\u001b[0mlist1\u001b[0m\u001b[1;33m)\u001b[0m\u001b[1;33m,\u001b[0m \u001b[0mid\u001b[0m\u001b[1;33m(\u001b[0m\u001b[0mlist1\u001b[0m\u001b[1;33m)\u001b[0m\u001b[1;33m,\u001b[0m \u001b[0mtype\u001b[0m\u001b[1;33m(\u001b[0m\u001b[0mlist1\u001b[0m\u001b[1;33m)\u001b[0m\u001b[1;33m)\u001b[0m\u001b[1;33m\u001b[0m\u001b[1;33m\u001b[0m\u001b[0m\n\u001b[0;32m      3\u001b[0m \u001b[1;31m# print (max(list1), min(list1))\u001b[0m\u001b[1;33m\u001b[0m\u001b[1;33m\u001b[0m\u001b[1;33m\u001b[0m\u001b[0m\n\u001b[1;32m----> 4\u001b[1;33m \u001b[0mprint\u001b[0m \u001b[1;33m(\u001b[0m\u001b[0msum\u001b[0m\u001b[1;33m(\u001b[0m\u001b[0mlist1\u001b[0m\u001b[1;33m)\u001b[0m\u001b[1;33m,\u001b[0m \u001b[0msum\u001b[0m\u001b[1;33m(\u001b[0m\u001b[0mlist1\u001b[0m\u001b[1;33m)\u001b[0m \u001b[1;33m/\u001b[0m \u001b[0mlen\u001b[0m\u001b[1;33m(\u001b[0m\u001b[0mlist1\u001b[0m\u001b[1;33m)\u001b[0m\u001b[1;33m)\u001b[0m\u001b[1;33m\u001b[0m\u001b[1;33m\u001b[0m\u001b[0m\n\u001b[0m",
      "\u001b[1;31mTypeError\u001b[0m: unsupported operand type(s) for +: 'int' and 'str'"
     ]
    }
   ],
   "source": [
    "list1 = ['red', 'green', 100, 'blue', 200, 'white', 'purple']\n",
    "print (list1, len(list1), id(list1), type(list1))\n",
    "# print (max(list1), min(list1))\n",
    "# print (sum(list1), sum(list1) / len(list1))"
   ]
  },
  {
   "cell_type": "code",
   "execution_count": 42,
   "id": "8baa34f6-0ba0-4258-978e-02a4577fb549",
   "metadata": {},
   "outputs": [
    {
     "name": "stdout",
     "output_type": "stream",
     "text": [
      "['red', 'green', 'blue', 'white', 'purple'] 5 1972352220864 <class 'list'>\n",
      "['red', 'green', 'blue', 'white', 'purple', 'magenta', 'black'] 7 1972352220864 <class 'list'>\n",
      "['red', 'green', 'blue', 'yellow', 'white', 'purple', 'magenta', 'black'] 8 1972352220864 <class 'list'>\n"
     ]
    }
   ],
   "source": [
    "# insert operation on a list\n",
    "list1 = ['red', 'green', 'blue', 'white', 'purple']\n",
    "print (list1, len(list1), id(list1), type(list1))\n",
    "list1.append(\"magenta\")\n",
    "list1.append(\"black\")\n",
    "print (list1, len(list1), id(list1), type(list1))\n",
    "list1.insert(3, \"yellow\")\n",
    "print (list1, len(list1), id(list1), type(list1))"
   ]
  },
  {
   "cell_type": "code",
   "execution_count": 45,
   "id": "7e51c241-8014-4316-b5b5-a49a2457efbf",
   "metadata": {},
   "outputs": [
    {
     "name": "stdout",
     "output_type": "stream",
     "text": [
      "['red', 'green', 'blue', 'white', 'purple'] 5 1972348732864 <class 'list'>\n",
      "['red', 'green', 'white', 'purple'] 4 1972348732864 <class 'list'>\n",
      "['red', 'green', 'purple'] 3 1972348732864 <class 'list'>\n",
      "[] 0 1972348732864 <class 'list'>\n"
     ]
    }
   ],
   "source": [
    "# delete operation on a list\n",
    "list1 = ['red', 'green', 'blue', 'white', 'purple']\n",
    "print (list1, len(list1), id(list1), type(list1))\n",
    "list1.remove(\"blue\")\n",
    "print (list1, len(list1), id(list1), type(list1))\n",
    "list1.remove(\"white\")\n",
    "print (list1, len(list1), id(list1), type(list1))\n",
    "list1.clear()\n",
    "print (list1, len(list1), id(list1), type(list1))"
   ]
  },
  {
   "cell_type": "code",
   "execution_count": 46,
   "id": "7d84c4c3-d822-42cb-84d1-d28c5d048261",
   "metadata": {},
   "outputs": [
    {
     "name": "stdout",
     "output_type": "stream",
     "text": [
      "['red', 'green', 'blue', 'white', 'purple'] 5 1972352942976 <class 'list'>\n",
      "['red', 'green', 'yellow', 'white', 'purple'] 5 1972352942976 <class 'list'>\n"
     ]
    }
   ],
   "source": [
    "# update operation on a list\n",
    "list1 = ['red', 'green', 'blue', 'white', 'purple']\n",
    "print (list1, len(list1), id(list1), type(list1))\n",
    "list1[2] = \"yellow\"\n",
    "print (list1, len(list1), id(list1), type(list1))"
   ]
  },
  {
   "cell_type": "markdown",
   "id": "32155624-0164-4258-9bda-33ca97697ca9",
   "metadata": {},
   "source": [
    "### Tuple Processing"
   ]
  },
  {
   "cell_type": "code",
   "execution_count": 47,
   "id": "db59bdc0-487f-48df-94e2-0d2507a258c6",
   "metadata": {},
   "outputs": [
    {
     "name": "stdout",
     "output_type": "stream",
     "text": [
      "(100, 300, 200, 500, 400) 5 1972346944224 <class 'tuple'>\n",
      "500 100\n",
      "1500 300.0\n"
     ]
    }
   ],
   "source": [
    "tuple1 = (100, 300, 200, 500, 400)\n",
    "print (tuple1, len(list1), id(tuple1), type(tuple1))\n",
    "print (max(tuple1), min(tuple1))\n",
    "print (sum(tuple1), sum(tuple1) / len(tuple1))"
   ]
  },
  {
   "cell_type": "code",
   "execution_count": 48,
   "id": "7f4fb134-6813-47e3-8681-b054fe9dc436",
   "metadata": {},
   "outputs": [
    {
     "name": "stdout",
     "output_type": "stream",
     "text": [
      "('red', 'green', 'blue', 'white', 'purple') 5 1972348544880 <class 'tuple'>\n",
      "white blue\n"
     ]
    },
    {
     "ename": "TypeError",
     "evalue": "unsupported operand type(s) for +: 'int' and 'str'",
     "output_type": "error",
     "traceback": [
      "\u001b[1;31m---------------------------------------------------------------------------\u001b[0m",
      "\u001b[1;31mTypeError\u001b[0m                                 Traceback (most recent call last)",
      "\u001b[1;32m<ipython-input-48-b380321c77e3>\u001b[0m in \u001b[0;36m<module>\u001b[1;34m\u001b[0m\n\u001b[0;32m      2\u001b[0m \u001b[0mprint\u001b[0m \u001b[1;33m(\u001b[0m\u001b[0mtuple1\u001b[0m\u001b[1;33m,\u001b[0m \u001b[0mlen\u001b[0m\u001b[1;33m(\u001b[0m\u001b[0mlist1\u001b[0m\u001b[1;33m)\u001b[0m\u001b[1;33m,\u001b[0m \u001b[0mid\u001b[0m\u001b[1;33m(\u001b[0m\u001b[0mtuple1\u001b[0m\u001b[1;33m)\u001b[0m\u001b[1;33m,\u001b[0m \u001b[0mtype\u001b[0m\u001b[1;33m(\u001b[0m\u001b[0mtuple1\u001b[0m\u001b[1;33m)\u001b[0m\u001b[1;33m)\u001b[0m\u001b[1;33m\u001b[0m\u001b[1;33m\u001b[0m\u001b[0m\n\u001b[0;32m      3\u001b[0m \u001b[0mprint\u001b[0m \u001b[1;33m(\u001b[0m\u001b[0mmax\u001b[0m\u001b[1;33m(\u001b[0m\u001b[0mtuple1\u001b[0m\u001b[1;33m)\u001b[0m\u001b[1;33m,\u001b[0m \u001b[0mmin\u001b[0m\u001b[1;33m(\u001b[0m\u001b[0mtuple1\u001b[0m\u001b[1;33m)\u001b[0m\u001b[1;33m)\u001b[0m\u001b[1;33m\u001b[0m\u001b[1;33m\u001b[0m\u001b[0m\n\u001b[1;32m----> 4\u001b[1;33m \u001b[0mprint\u001b[0m \u001b[1;33m(\u001b[0m\u001b[0msum\u001b[0m\u001b[1;33m(\u001b[0m\u001b[0mtuple1\u001b[0m\u001b[1;33m)\u001b[0m\u001b[1;33m,\u001b[0m \u001b[0msum\u001b[0m\u001b[1;33m(\u001b[0m\u001b[0mtuple1\u001b[0m\u001b[1;33m)\u001b[0m \u001b[1;33m/\u001b[0m \u001b[0mlen\u001b[0m\u001b[1;33m(\u001b[0m\u001b[0mtuple1\u001b[0m\u001b[1;33m)\u001b[0m\u001b[1;33m)\u001b[0m\u001b[1;33m\u001b[0m\u001b[1;33m\u001b[0m\u001b[0m\n\u001b[0m",
      "\u001b[1;31mTypeError\u001b[0m: unsupported operand type(s) for +: 'int' and 'str'"
     ]
    }
   ],
   "source": [
    "tuple1 = ('red', 'green', 'blue', 'white', 'purple')\n",
    "print (tuple1, len(list1), id(tuple1), type(tuple1))\n",
    "print (max(tuple1), min(tuple1))\n",
    "# print (sum(tuple1), sum(tuple1) / len(tuple1))"
   ]
  },
  {
   "cell_type": "code",
   "execution_count": 51,
   "id": "386ca311-6f29-4987-8983-2f7af63ddebf",
   "metadata": {},
   "outputs": [
    {
     "name": "stdout",
     "output_type": "stream",
     "text": [
      "('red', 100, 'green', 23.45, 'blue', 'white', 'purple') 5 1972326614784 <class 'tuple'>\n"
     ]
    },
    {
     "ename": "TypeError",
     "evalue": "'tuple' object does not support item assignment",
     "output_type": "error",
     "traceback": [
      "\u001b[1;31m---------------------------------------------------------------------------\u001b[0m",
      "\u001b[1;31mTypeError\u001b[0m                                 Traceback (most recent call last)",
      "\u001b[1;32m<ipython-input-51-4e5b98c52fef>\u001b[0m in \u001b[0;36m<module>\u001b[1;34m\u001b[0m\n\u001b[0;32m      3\u001b[0m \u001b[1;31m# print (max(tuple1), min(tuple1))\u001b[0m\u001b[1;33m\u001b[0m\u001b[1;33m\u001b[0m\u001b[1;33m\u001b[0m\u001b[0m\n\u001b[0;32m      4\u001b[0m \u001b[1;31m# print (sum(tuple1), sum(tuple1) / len(tuple1))\u001b[0m\u001b[1;33m\u001b[0m\u001b[1;33m\u001b[0m\u001b[1;33m\u001b[0m\u001b[0m\n\u001b[1;32m----> 5\u001b[1;33m \u001b[0mtuple1\u001b[0m\u001b[1;33m[\u001b[0m\u001b[1;36m2\u001b[0m\u001b[1;33m]\u001b[0m \u001b[1;33m=\u001b[0m \u001b[1;34m\"yellow\"\u001b[0m\u001b[1;33m\u001b[0m\u001b[1;33m\u001b[0m\u001b[0m\n\u001b[0m",
      "\u001b[1;31mTypeError\u001b[0m: 'tuple' object does not support item assignment"
     ]
    }
   ],
   "source": [
    "tuple1 = ('red', 100, 'green', 23.45, 'blue', 'white', 'purple')\n",
    "print (tuple1, len(list1), id(tuple1), type(tuple1))\n",
    "# print (max(tuple1), min(tuple1))\n",
    "# print (sum(tuple1), sum(tuple1) / len(tuple1))\n",
    "tuple1[2] = \"yellow\""
   ]
  },
  {
   "cell_type": "markdown",
   "id": "e8fff9de-1148-4d7d-a4d5-b2df66639b65",
   "metadata": {},
   "source": [
    "### Dictionary Processing"
   ]
  },
  {
   "cell_type": "code",
   "execution_count": 55,
   "id": "10cb8c8e-c5fa-47b7-b038-e85488795fa6",
   "metadata": {},
   "outputs": [
    {
     "name": "stdout",
     "output_type": "stream",
     "text": [
      "{'apple': 100, 'orange': 750, 'guava': 200, 'pineapple': 340} 4 <class 'dict'> 1972352362880\n",
      "dict_values([100, 750, 200, 340])\n",
      "dict_keys(['apple', 'orange', 'guava', 'pineapple'])\n",
      "dict_items([('apple', 100), ('orange', 750), ('guava', 200), ('pineapple', 340)])\n"
     ]
    }
   ],
   "source": [
    "dict1 = {\"apple\":100, \"orange\":200, \"guava\":200, \"pineapple\":340, \"orange\":750}\n",
    "print (dict1, len(dict1), type(dict1), id(dict1))\n",
    "print (dict1.values())\n",
    "print (dict1.keys())\n",
    "print (dict1.items())"
   ]
  },
  {
   "cell_type": "code",
   "execution_count": 62,
   "id": "48ed2498-d12e-4fc2-ad0c-08ac11131008",
   "metadata": {},
   "outputs": [
    {
     "name": "stdout",
     "output_type": "stream",
     "text": [
      "{'apple': 100, 'guava': 200, 'pineapple': 340, 'orange': 750} 4 <class 'dict'> 1972352278400\n",
      "750\n",
      "None\n",
      "Not Available\n",
      "100\n",
      "100\n"
     ]
    },
    {
     "ename": "KeyError",
     "evalue": "'banana'",
     "output_type": "error",
     "traceback": [
      "\u001b[1;31m---------------------------------------------------------------------------\u001b[0m",
      "\u001b[1;31mKeyError\u001b[0m                                  Traceback (most recent call last)",
      "\u001b[1;32m<ipython-input-62-4aaafc23e96a>\u001b[0m in \u001b[0;36m<module>\u001b[1;34m\u001b[0m\n\u001b[0;32m      6\u001b[0m \u001b[0mprint\u001b[0m \u001b[1;33m(\u001b[0m\u001b[0mdict1\u001b[0m\u001b[1;33m.\u001b[0m\u001b[0mget\u001b[0m\u001b[1;33m(\u001b[0m\u001b[1;34m\"apple\"\u001b[0m\u001b[1;33m,\u001b[0m \u001b[1;34m\"Not Available\"\u001b[0m\u001b[1;33m)\u001b[0m\u001b[1;33m)\u001b[0m\u001b[1;33m\u001b[0m\u001b[1;33m\u001b[0m\u001b[0m\n\u001b[0;32m      7\u001b[0m \u001b[0mprint\u001b[0m \u001b[1;33m(\u001b[0m\u001b[0mdict1\u001b[0m\u001b[1;33m[\u001b[0m\u001b[1;34m\"apple\"\u001b[0m\u001b[1;33m]\u001b[0m\u001b[1;33m)\u001b[0m\u001b[1;33m\u001b[0m\u001b[1;33m\u001b[0m\u001b[0m\n\u001b[1;32m----> 8\u001b[1;33m \u001b[0mprint\u001b[0m \u001b[1;33m(\u001b[0m\u001b[0mdict1\u001b[0m\u001b[1;33m[\u001b[0m\u001b[1;34m\"banana\"\u001b[0m\u001b[1;33m]\u001b[0m\u001b[1;33m)\u001b[0m\u001b[1;33m\u001b[0m\u001b[1;33m\u001b[0m\u001b[0m\n\u001b[0m",
      "\u001b[1;31mKeyError\u001b[0m: 'banana'"
     ]
    }
   ],
   "source": [
    "# reading from the dictionary\n",
    "dict1 = {\"apple\":100, \"guava\":200, \"pineapple\":340, \"orange\":750}\n",
    "print (dict1, len(dict1), type(dict1), id(dict1))\n",
    "print (dict1.get(\"orange\"))\n",
    "print (dict1.get(\"banana\"))\n",
    "print (dict1.get(\"banana\", \"Not Available\"))\n",
    "print (dict1.get(\"apple\", \"Not Available\"))\n",
    "print (dict1[\"apple\"])\n",
    "print (dict1[\"banana\"])"
   ]
  },
  {
   "cell_type": "code",
   "execution_count": 65,
   "id": "8e5daac9-b5f2-40e1-996d-163efe07e945",
   "metadata": {},
   "outputs": [
    {
     "name": "stdout",
     "output_type": "stream",
     "text": [
      "{'apple': 100, 'guava': 200, 'pineapple': 340, 'orange': 750} 4 <class 'dict'> 1972346913664\n",
      "200\n",
      "{'apple': 100, 'pineapple': 340, 'orange': 750} 3 <class 'dict'> 1972346913664\n",
      "750\n",
      "{'apple': 100, 'pineapple': 340} 2 <class 'dict'> 1972346913664\n",
      "{} 0 <class 'dict'> 1972346913664\n"
     ]
    }
   ],
   "source": [
    "# deleting from the dictionary\n",
    "dict1 = {\"apple\":100, \"guava\":200, \"pineapple\":340, \"orange\":750}\n",
    "print (dict1, len(dict1), type(dict1), id(dict1))\n",
    "print (dict1.pop(\"guava\"))\n",
    "print (dict1, len(dict1), type(dict1), id(dict1))\n",
    "print (dict1.pop(\"orange\"))\n",
    "print (dict1, len(dict1), type(dict1), id(dict1))\n",
    "dict1.clear()\n",
    "print (dict1, len(dict1), type(dict1), id(dict1))"
   ]
  },
  {
   "cell_type": "code",
   "execution_count": 67,
   "id": "aead101b-fe53-4f75-b168-7e124b082fe1",
   "metadata": {},
   "outputs": [
    {
     "name": "stdout",
     "output_type": "stream",
     "text": [
      "{'apple': 100, 'guava': 200, 'pineapple': 340, 'orange': 750} 4 <class 'dict'> 1972344201344\n",
      "{'apple': 100, 'guava': 200, 'pineapple': 340, 'orange': 990} 4 <class 'dict'> 1972344201344\n",
      "{'apple': 550, 'guava': 200, 'pineapple': 340, 'orange': 990} 4 <class 'dict'> 1972344201344\n"
     ]
    }
   ],
   "source": [
    "# update on the dictionary\n",
    "dict1 = {\"apple\":100, \"guava\":200, \"pineapple\":340, \"orange\":750}\n",
    "print (dict1, len(dict1), type(dict1), id(dict1))\n",
    "dict1[\"orange\"] = 990\n",
    "print (dict1, len(dict1), type(dict1), id(dict1))\n",
    "dict1[\"apple\"] = 550\n",
    "print (dict1, len(dict1), type(dict1), id(dict1))"
   ]
  },
  {
   "cell_type": "markdown",
   "id": "82ee205d-576b-4bcb-a6a7-efe1d054e360",
   "metadata": {},
   "source": [
    "### Set Processing"
   ]
  },
  {
   "cell_type": "code",
   "execution_count": 71,
   "id": "466a9515-b31f-40a7-9e08-1f787f60848f",
   "metadata": {},
   "outputs": [
    {
     "name": "stdout",
     "output_type": "stream",
     "text": [
      "{'game', 100, 'morning', 650, 400, 950, 'football'} 7 <class 'set'> 1972350207808\n"
     ]
    }
   ],
   "source": [
    "set1 = {100, 'morning', 950, 'game', 'football', 400, 650, 'morning', 950, 'game'}\n",
    "print (set1, len(set1), type(set1), id(set1))"
   ]
  },
  {
   "cell_type": "code",
   "execution_count": 73,
   "id": "2aab1d73-cf80-428b-bec0-d852c1a6e70f",
   "metadata": {},
   "outputs": [
    {
     "name": "stdout",
     "output_type": "stream",
     "text": [
      "{'game', 100, 'morning', 650, 400, 950, 'football'} 7 <class 'set'> 1972350207808\n",
      "{'game', 100, 'morning', 650, 'night', 400, 950, 'football'} 8 <class 'set'> 1972350207808\n",
      "{'game', 100, 'morning', 650, 'night', 400, 950, 'football', 1050} 9 <class 'set'> 1972350207808\n"
     ]
    }
   ],
   "source": [
    "# insert operation\n",
    "set1 = {100, 'morning', 950, 'game', 'football', 400, 650, 'morning', 950, 'game'}\n",
    "print (set1, len(set1), type(set1), id(set1))\n",
    "set1.add('night')\n",
    "print (set1, len(set1), type(set1), id(set1))\n",
    "set1.add(1050)\n",
    "print (set1, len(set1), type(set1), id(set1))"
   ]
  },
  {
   "cell_type": "code",
   "execution_count": 74,
   "id": "1508de29-c14a-4885-af93-e3f01bd4aa78",
   "metadata": {},
   "outputs": [
    {
     "name": "stdout",
     "output_type": "stream",
     "text": [
      "{'game', 100, 'morning', 650, 400, 950, 'football'} 7 <class 'set'> 1972348862240\n",
      "{'game', 100, 650, 400, 'football'} 5 <class 'set'> 1972348862240\n"
     ]
    }
   ],
   "source": [
    "# delete operation\n",
    "set1 = {100, 'morning', 950, 'game', 'football', 400, 650, 'morning', 950, 'game'}\n",
    "print (set1, len(set1), type(set1), id(set1))\n",
    "set1.remove(950)\n",
    "set1.remove(\"morning\")\n",
    "print (set1, len(set1), type(set1), id(set1))"
   ]
  },
  {
   "cell_type": "code",
   "execution_count": 77,
   "id": "67b17da5-351a-4cf3-a224-69ccf8b73325",
   "metadata": {},
   "outputs": [
    {
     "name": "stdout",
     "output_type": "stream",
     "text": [
      "{100, 200, 300, 400, 500}\n",
      "{300, 400, 500, 600, 700}\n",
      "{400, 300, 500}\n",
      "{400, 300, 500}\n"
     ]
    }
   ],
   "source": [
    "# set intersection operation\n",
    "set1 = {100, 200, 300, 400, 500}\n",
    "set2 = {300, 400, 500, 600, 700}\n",
    "print (set1)\n",
    "print (set2)\n",
    "result = set1 & set2\n",
    "print (result)\n",
    "result = set1.intersection(set2)\n",
    "print (result)"
   ]
  },
  {
   "cell_type": "code",
   "execution_count": 78,
   "id": "4e3eb2e5-a7b9-4f4d-bd99-d50a629dbce3",
   "metadata": {},
   "outputs": [
    {
     "name": "stdout",
     "output_type": "stream",
     "text": [
      "{100, 200, 300, 400, 500}\n",
      "{300, 400, 500, 600, 700}\n",
      "{100, 200, 300, 400, 500, 600, 700}\n",
      "{100, 200, 300, 400, 500, 600, 700}\n"
     ]
    }
   ],
   "source": [
    "# set union operation\n",
    "set1 = {100, 200, 300, 400, 500}\n",
    "set2 = {300, 400, 500, 600, 700}\n",
    "print (set1)\n",
    "print (set2)\n",
    "result = set1 | set2\n",
    "print (result)\n",
    "result = set1.union(set2)\n",
    "print (result)"
   ]
  },
  {
   "cell_type": "code",
   "execution_count": 79,
   "id": "f48b9641-22ed-413d-b137-6817495946f5",
   "metadata": {},
   "outputs": [
    {
     "name": "stdout",
     "output_type": "stream",
     "text": [
      "{100, 200, 300, 400, 500}\n",
      "{300, 400, 500, 600, 700}\n",
      "{200, 100}\n",
      "{200, 100}\n"
     ]
    }
   ],
   "source": [
    "# set difference operation\n",
    "set1 = {100, 200, 300, 400, 500}\n",
    "set2 = {300, 400, 500, 600, 700}\n",
    "print (set1)\n",
    "print (set2)\n",
    "result = set1 - set2\n",
    "print (result)\n",
    "result = set1.difference(set2)\n",
    "print (result)"
   ]
  },
  {
   "cell_type": "code",
   "execution_count": 80,
   "id": "96b0b1fb-2ca5-467b-ae6f-940e8c0a84bc",
   "metadata": {},
   "outputs": [
    {
     "name": "stdout",
     "output_type": "stream",
     "text": [
      "{100, 200, 300, 400, 500}\n",
      "{300, 400, 500, 600, 700}\n",
      "{700, 100, 600, 200}\n",
      "{700, 100, 600, 200}\n"
     ]
    }
   ],
   "source": [
    "# set symmetric difference operation\n",
    "set1 = {100, 200, 300, 400, 500}\n",
    "set2 = {300, 400, 500, 600, 700}\n",
    "print (set1)\n",
    "print (set2)\n",
    "result = set1 ^ set2\n",
    "print (result)\n",
    "result = set1.symmetric_difference(set2)\n",
    "print (result)"
   ]
  },
  {
   "cell_type": "code",
   "execution_count": null,
   "id": "6b8331a7-92b5-42df-8c96-bc4bfb93f012",
   "metadata": {},
   "outputs": [],
   "source": []
  },
  {
   "cell_type": "code",
   "execution_count": null,
   "id": "e47fbf65-d3b6-4e66-846a-f84277baa751",
   "metadata": {},
   "outputs": [],
   "source": []
  },
  {
   "cell_type": "code",
   "execution_count": null,
   "id": "ffe9f141-cf03-452e-862c-373b9ca87988",
   "metadata": {},
   "outputs": [],
   "source": []
  },
  {
   "cell_type": "code",
   "execution_count": null,
   "id": "b115256e-2078-4ac7-ab88-650c723631e9",
   "metadata": {},
   "outputs": [],
   "source": []
  },
  {
   "cell_type": "code",
   "execution_count": null,
   "id": "934c5f41-ec46-4299-86e9-d13e642d0b51",
   "metadata": {},
   "outputs": [],
   "source": []
  }
 ],
 "metadata": {
  "kernelspec": {
   "display_name": "Python 3",
   "language": "python",
   "name": "python3"
  },
  "language_info": {
   "codemirror_mode": {
    "name": "ipython",
    "version": 3
   },
   "file_extension": ".py",
   "mimetype": "text/x-python",
   "name": "python",
   "nbconvert_exporter": "python",
   "pygments_lexer": "ipython3",
   "version": "3.8.8"
  }
 },
 "nbformat": 4,
 "nbformat_minor": 5
}
