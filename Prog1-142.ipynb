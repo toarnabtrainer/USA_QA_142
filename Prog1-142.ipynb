{
 "cells": [
  {
   "cell_type": "markdown",
   "id": "2a6a8e68-376b-4871-b67f-e6cb154cc3cf",
   "metadata": {},
   "source": [
    "### Python Download Link:\n",
    "\n",
    "Anaconda Download Link: https://www.anaconda.com/products/distribution"
   ]
  },
  {
   "cell_type": "markdown",
   "id": "bdbc8791-38e3-44de-bc11-a49066000150",
   "metadata": {},
   "source": [
    "### Online Python Editors:\n",
    "\n",
    "https://onecompiler.com/ <br>\n",
    "https://www.onlinegdb.com/"
   ]
  },
  {
   "cell_type": "markdown",
   "id": "51c02d86-c972-4a09-83c5-80d8add13aa3",
   "metadata": {},
   "source": [
    "### Python Study Material Links:\n",
    "\n",
    "* Python for you and me: https://pymbook.readthedocs.io/en/latest/\n",
    "* Python Practice Book: https://anandology.com/python-practice-book/index.html\n",
    "* Learn Python Programming (programmiz.com): https://www.programiz.com/python-programming\n",
    "* Learn Python Programming (data-flair): https://data-flair.training/blogs/python-tutorial/"
   ]
  },
  {
   "cell_type": "code",
   "execution_count": 6,
   "id": "c3122197-8c38-4666-b3bf-a5635c3d0f58",
   "metadata": {},
   "outputs": [
    {
     "name": "stdout",
     "output_type": "stream",
     "text": [
      "Hello\n",
      "Welcome to all...\n"
     ]
    }
   ],
   "source": [
    "print (\"Hello\")\n",
    "print (\"Welcome to all...\")"
   ]
  },
  {
   "cell_type": "code",
   "execution_count": 7,
   "id": "6a2b6ac1-36b0-4ce6-b2e8-517c2371b317",
   "metadata": {},
   "outputs": [],
   "source": [
    "# This is a comment line\n",
    "# This is another comment line\n",
    "# This is the last comment line\n",
    "# Use Ctrl+/ to make a block of codes commented and/or uncommented"
   ]
  },
  {
   "cell_type": "code",
   "execution_count": 9,
   "id": "5f963b83-2d35-432e-82f3-c4d603945eb6",
   "metadata": {},
   "outputs": [
    {
     "name": "stdin",
     "output_type": "stream",
     "text": [
      "Please enter the first number:  100\n",
      "Please enter the second number:  300\n"
     ]
    },
    {
     "name": "stdout",
     "output_type": "stream",
     "text": [
      "100 <class 'str'> 300 <class 'str'>\n",
      "So the total is 100300\n"
     ]
    }
   ],
   "source": [
    "num1 = input(\"Please enter the first number: \")\n",
    "num2 = input(\"Please enter the second number: \")\n",
    "print (num1, type(num1), num2, type(num2))\n",
    "total = num1 + num2\n",
    "print (\"So the total is\", total)"
   ]
  },
  {
   "cell_type": "code",
   "execution_count": 11,
   "id": "d8021f7e-9e1b-422b-a8cb-48d11449ca1b",
   "metadata": {},
   "outputs": [
    {
     "name": "stdin",
     "output_type": "stream",
     "text": [
      "Please enter the first number:  100\n",
      "Please enter the second number:  400\n"
     ]
    },
    {
     "name": "stdout",
     "output_type": "stream",
     "text": [
      "100 <class 'int'> 400 <class 'int'>\n",
      "So the total is 500\n"
     ]
    }
   ],
   "source": [
    "num1 = int(input(\"Please enter the first number: \"))\n",
    "num2 = int(input(\"Please enter the second number: \"))\n",
    "print (num1, type(num1), num2, type(num2))\n",
    "total = num1 + num2\n",
    "print (\"So the total is\", total)"
   ]
  },
  {
   "cell_type": "code",
   "execution_count": 28,
   "id": "e5e441ce-2cab-4985-8197-b912ad73dfb0",
   "metadata": {},
   "outputs": [
    {
     "name": "stdout",
     "output_type": "stream",
     "text": [
      "So the total of 100 and 400 is 500\n",
      "So the total of 100 and 400 is 500\n",
      "So the total of 100 and 400 is 500\n",
      "So the total of 100 and 400 is 500\n",
      "So the total of 100 and 400 is 500\n",
      "So the total of 100 and 400 is 500\n",
      "So the total of 100 and 400 is 500\n",
      "So the total of 100 and 400 is 500\n",
      "So the total of 100 and 400 is 500.000000\n",
      "So the total of 100 and 400 is  500.000\n",
      "So the total of 100 and 400 is 500\n"
     ]
    }
   ],
   "source": [
    "print (\"So the total of\", num1, \"and\", num2, \"is\", total)\n",
    "print (\"So the total of \" + str(num1) + \" and \" + str(num2) + \" is \" + str(total))\n",
    "print (\"So the total of {} and {} is {}\".format(num1, num2, total))   # {} is denoting a variable or value place holder\n",
    "print (\"So the total of {0} and {1} is {2}\".format(num1, num2, total))   # numbered place holder\n",
    "print (\"So the total of {2} and {0} is {1}\".format(num2, total, num1))\n",
    "print (\"So the total of {fnum} and {snum} is {tot}\".format(fnum = num1, snum = num2, tot = total))   # labelled place holder\n",
    "print (\"So the total of {fnum} and {snum} is {tot}\".format(tot = total, snum = num2, fnum = num1))\n",
    "print (\"So the total of %d and %d is %d\"%(num1, num2, total))\n",
    "print (\"So the total of %d and %d is %f\"%(num1, num2, total))\n",
    "print (\"So the total of %d and %d is %8.3f\"%(num1, num2, total))\n",
    "print (f\"So the total of {num1} and {num2} is {total}\")"
   ]
  },
  {
   "cell_type": "markdown",
   "id": "651e4776-1038-4320-ab41-cbc33bbfcf72",
   "metadata": {},
   "source": [
    "### Operators\n",
    "#### Arithmetic Operators"
   ]
  },
  {
   "cell_type": "code",
   "execution_count": 29,
   "id": "1e946cc6-f61d-47af-9ad9-e673ff5e9559",
   "metadata": {},
   "outputs": [
    {
     "name": "stdout",
     "output_type": "stream",
     "text": [
      "140\n",
      "60\n",
      "4000\n",
      "2.5\n",
      "2\n",
      "20\n",
      "100000000\n"
     ]
    }
   ],
   "source": [
    "# arithmetic operators: + - * / // % **\n",
    "print (100 + 40)   # addition\n",
    "print (100 - 40)   # subtraction\n",
    "print (100 * 40)   # multiplication\n",
    "print (100 / 40)   # float division\n",
    "print (100 // 40)  # integer division\n",
    "print (100 % 40)   # remainder of the division\n",
    "print (100 ** 4)   # exponentiation"
   ]
  },
  {
   "cell_type": "markdown",
   "id": "ff09e37c-4293-45a7-9dd3-4a9242ba7b07",
   "metadata": {},
   "source": [
    "#### Logical Operators"
   ]
  },
  {
   "cell_type": "code",
   "execution_count": 31,
   "id": "17a5ff87-5ec1-434b-b48c-6a41f156be12",
   "metadata": {},
   "outputs": [
    {
     "name": "stdout",
     "output_type": "stream",
     "text": [
      "False False False True\n",
      "False True True True\n",
      "False True\n"
     ]
    }
   ],
   "source": [
    "# logical operators: and, or, not\n",
    "print (False and False, False and True, True and False, True and True)\n",
    "print (False or False, False or True, True or False, True or True)\n",
    "print (not True, not False)"
   ]
  },
  {
   "cell_type": "markdown",
   "id": "809b9f91-287d-4bfe-bc3b-d2bf23564994",
   "metadata": {},
   "source": [
    "#### Relational Operators"
   ]
  },
  {
   "cell_type": "code",
   "execution_count": 39,
   "id": "6b72d1d8-850f-4d7e-bf76-03b4060b5b7d",
   "metadata": {},
   "outputs": [
    {
     "name": "stdout",
     "output_type": "stream",
     "text": [
      "True True False False True False\n"
     ]
    }
   ],
   "source": [
    "# relational operators: > >= < <= != ==\n",
    "print (100 > 20, 100 >= 20, 100 < 20, 100 <= 20, 100 != 20, 100 == 20)"
   ]
  },
  {
   "cell_type": "markdown",
   "id": "d58f775c-049b-4cb1-b688-302e900e5200",
   "metadata": {},
   "source": [
    "#### Unary and Binary Operators"
   ]
  },
  {
   "cell_type": "code",
   "execution_count": 38,
   "id": "c3124f02-4ba1-4883-bb1a-b8ade4a541bd",
   "metadata": {},
   "outputs": [
    {
     "name": "stdout",
     "output_type": "stream",
     "text": [
      "-100\n",
      "500\n"
     ]
    }
   ],
   "source": [
    "result = -100  # here - is a uniary operator, i.e it requires only one operand\n",
    "print (result)\n",
    "result = 100 + 400  # here + is a binary operator, i.e it requires two operands\n",
    "print (result)"
   ]
  },
  {
   "cell_type": "markdown",
   "id": "18e4ae11-e2b0-41c2-9953-44e702653b99",
   "metadata": {},
   "source": [
    "#### Ternary Operator"
   ]
  },
  {
   "cell_type": "code",
   "execution_count": 37,
   "id": "cb8b013a-be3e-4f60-b4bd-5b20a2d7b3a8",
   "metadata": {},
   "outputs": [
    {
     "name": "stdout",
     "output_type": "stream",
     "text": [
      "Even Number...\n",
      "Odd Number...\n"
     ]
    }
   ],
   "source": [
    "# ternary oprator requires three operands (or data) to operate (true-part, condition, false-part)\n",
    "num = 100\n",
    "result = \"Even Number...\" if (num % 2 == 0) else \"Odd Number...\"\n",
    "print (result)\n",
    "\n",
    "num = 101\n",
    "result = \"Even Number...\" if (num % 2 == 0) else \"Odd Number...\"\n",
    "print (result)"
   ]
  },
  {
   "cell_type": "markdown",
   "id": "241c46a2-b98a-49d9-af5a-8a9be91b5fa5",
   "metadata": {},
   "source": [
    "### Conditional Statements"
   ]
  },
  {
   "cell_type": "code",
   "execution_count": 13,
   "id": "043ff30c-303b-48f5-8b1f-7ee866754af7",
   "metadata": {},
   "outputs": [
    {
     "name": "stdin",
     "output_type": "stream",
     "text": [
      "Please enter the first number:  100\n",
      "Please enter the seocnd number:  300\n",
      "Please enter the third number:  200\n"
     ]
    },
    {
     "name": "stdout",
     "output_type": "stream",
     "text": [
      "So the maximum number is 300\n",
      "So the second number is the maximum number...\n",
      "End of the program...\n"
     ]
    }
   ],
   "source": [
    "# finding the maximum of three user given numbers\n",
    "num1 = int(input(\"Please enter the first number: \"))\n",
    "num2 = int(input(\"Please enter the seocnd number: \"))\n",
    "num3 = int(input(\"Please enter the third number: \"))\n",
    "if (num1 > num2):\n",
    "    if (num1 > num3):\n",
    "        print (\"So the maximum number is\", num1)\n",
    "        print (\"So the first number is the maximum number...\")\n",
    "    else:\n",
    "        print (\"So the maximum number is\", num3)\n",
    "        print (\"So the third number is the maximum number...\")\n",
    "elif (num2 > num3):\n",
    "    print (\"So the maximum number is\", num2)\n",
    "    print (\"So the second number is the maximum number...\")\n",
    "else:\n",
    "    print (\"So the maximum number is\", num3)\n",
    "    print (\"So the third number is the maximum number...\")\n",
    "print (\"End of the program...\")"
   ]
  },
  {
   "cell_type": "code",
   "execution_count": 16,
   "id": "78b95777-216a-4c2a-bc21-8e1438b8437b",
   "metadata": {},
   "outputs": [
    {
     "name": "stdin",
     "output_type": "stream",
     "text": [
      "Please enter the first number:  200\n",
      "Please enter the seocnd number:  100\n",
      "Please enter the third number:  300\n"
     ]
    },
    {
     "name": "stdout",
     "output_type": "stream",
     "text": [
      "So the maximum number is 300\n",
      "So the third number is the maximum number...\n",
      "End of the program...\n"
     ]
    }
   ],
   "source": [
    "# finding the maximum of three user given numbers\n",
    "num1 = int(input(\"Please enter the first number: \"))\n",
    "num2 = int(input(\"Please enter the seocnd number: \"))\n",
    "num3 = int(input(\"Please enter the third number: \"))\n",
    "if (num1 > num2 and num1 > num3):\n",
    "    print (\"So the maximum number is\", num1)\n",
    "    print (\"So the first number is the maximum number...\")\n",
    "elif (num2 > num3):\n",
    "    print (\"So the maximum number is\", num2)\n",
    "    print (\"So the second number is the maximum number...\")\n",
    "else:\n",
    "    print (\"So the maximum number is\", num3)\n",
    "    print (\"So the third number is the maximum number...\")\n",
    "print (\"End of the program...\")"
   ]
  },
  {
   "cell_type": "markdown",
   "id": "09bd9254-d6b5-4b00-b1b2-76b4c9f7e6f1",
   "metadata": {},
   "source": [
    "Logic Tracing -\n",
    "Step 1: In between num1 and num2 whichever is maximum number put it in max1 and the other number in max2\n",
    "Step 2: We shall deal with only max1, max2 and num3\n",
    "    \n",
    "                            max1         max2\n",
    "                            500          200\n",
    "       num3 =         700          400          100\n",
    "       2nd maximum =  500          400          200\n",
    "                      max1         num3         max2"
   ]
  },
  {
   "cell_type": "code",
   "execution_count": 22,
   "id": "bbb01097-aa01-4eb9-9850-c129f04f4bcd",
   "metadata": {},
   "outputs": [
    {
     "name": "stdin",
     "output_type": "stream",
     "text": [
      "Please enter the first number:  100\n",
      "Please enter the seocnd number:  200\n",
      "Please enter the third number:  300\n"
     ]
    },
    {
     "name": "stdout",
     "output_type": "stream",
     "text": [
      "So the second maximum is 200\n",
      "End of the program...\n"
     ]
    }
   ],
   "source": [
    "# find the second maximum of three user given numbers\n",
    "num1 = int(input(\"Please enter the first number: \"))\n",
    "num2 = int(input(\"Please enter the seocnd number: \"))\n",
    "num3 = int(input(\"Please enter the third number: \"))\n",
    "\n",
    "# Step - 1:\n",
    "if (num1 > num2): max1 = num1; max2 = num2\n",
    "else: max1 = num2; max2 = num1\n",
    "    \n",
    "# Step - 2:\n",
    "if (num3 > max1): print (\"So the second maximum is\", max1)\n",
    "elif (num3 > max2): print (\"So the second maximum is\", num3)\n",
    "else: print (\"So the second maximum is\", max2)\n",
    "    \n",
    "print (\"End of the program...\")"
   ]
  },
  {
   "cell_type": "markdown",
   "id": "b12f6f18-e4cb-44d5-b647-eceefb939738",
   "metadata": {},
   "source": [
    "### Iterative Statements: for, while loops"
   ]
  },
  {
   "cell_type": "code",
   "execution_count": 28,
   "id": "58f50656-13bb-41c8-9231-470a0ead3b27",
   "metadata": {},
   "outputs": [
    {
     "name": "stdout",
     "output_type": "stream",
     "text": [
      "i = 0, i = 1, i = 2, i = 3, i = 4, i = 5, i = 6, i = 7, i = 8, i = 9, \n",
      "i = 5, i = 6, i = 7, i = 8, i = 9, \n",
      "i = -10, i = -9, i = -8, i = -7, i = -6, i = -5, i = -4, i = -3, i = -2, i = -1, i = 0, i = 1, i = 2, i = 3, i = 4, i = 5, i = 6, i = 7, i = 8, i = 9, \n",
      "i = 1, i = 3, i = 5, i = 7, i = 9, "
     ]
    }
   ],
   "source": [
    "for i in range(10):\n",
    "    print (\"i =\", i, end = \", \")\n",
    "print ()\n",
    "for i in range(5, 10):\n",
    "    print (\"i =\", i, end = \", \")\n",
    "print ()\n",
    "for i in range(-10, 10):\n",
    "    print (\"i =\", i, end = \", \")\n",
    "print ()\n",
    "for i in range(1, 10, 2):\n",
    "    print (\"i =\", i, end = \", \")"
   ]
  },
  {
   "cell_type": "code",
   "execution_count": 32,
   "id": "38457d8c-e45a-490a-bcef-ac16e2fe1ba0",
   "metadata": {},
   "outputs": [
    {
     "name": "stdout",
     "output_type": "stream",
     "text": [
      "u, n, i, v, e, r, s, i, t, y, \n",
      "100, 200, 150, 110, 400, "
     ]
    }
   ],
   "source": [
    "for ch in \"university\":\n",
    "    print (ch, end = \", \")\n",
    "print ()\n",
    "for data in [100, 200, 150, 110, 400]:\n",
    "    print (data, end = \", \")"
   ]
  },
  {
   "cell_type": "code",
   "execution_count": 33,
   "id": "b289b509-1c0f-4341-a645-ccaa4e61c465",
   "metadata": {},
   "outputs": [
    {
     "name": "stdout",
     "output_type": "stream",
     "text": [
      "i = 1\n",
      "i = 2\n",
      "i = 3\n",
      "i = 4\n",
      "i = 5\n",
      "i = 6\n",
      "i = 7\n",
      "i = 8\n",
      "i = 9\n",
      "i = 10\n",
      "Else block is executing...\n",
      "End of the iteration...\n"
     ]
    }
   ],
   "source": [
    "for i in range(1, 11):\n",
    "    print (\"i =\", i)\n",
    "else:\n",
    "    print (\"Else block is executing...\")\n",
    "print (\"End of the iteration...\")"
   ]
  },
  {
   "cell_type": "code",
   "execution_count": 34,
   "id": "252d7ada-fe42-4cbd-9905-2b572b8305c3",
   "metadata": {},
   "outputs": [
    {
     "name": "stdout",
     "output_type": "stream",
     "text": [
      "i = 1\n",
      "i = 2\n",
      "i = 3\n",
      "i = 4\n",
      "i = 5\n",
      "End of the iteration...\n"
     ]
    }
   ],
   "source": [
    "for i in range(1, 11):\n",
    "    print (\"i =\", i)\n",
    "    if (i == 5): break\n",
    "else:\n",
    "    print (\"Else block is executing...\")\n",
    "print (\"End of the iteration...\")"
   ]
  },
  {
   "cell_type": "code",
   "execution_count": 35,
   "id": "581ada06-1b11-4fe3-b734-2d2ffb979116",
   "metadata": {},
   "outputs": [
    {
     "name": "stdout",
     "output_type": "stream",
     "text": [
      "i = 1\n",
      "i = 2\n",
      "i = 3\n",
      "i = 4\n",
      "Continue with i = 5\n",
      "i = 6\n",
      "i = 7\n",
      "Continue with i = 8\n",
      "i = 9\n",
      "i = 10\n",
      "Else block is executing...\n",
      "End of the iteration...\n"
     ]
    }
   ],
   "source": [
    "for i in range(1, 11):\n",
    "    if (i == 5 or i == 8):\n",
    "        print (\"Continue with i =\", i)\n",
    "        continue\n",
    "    print (\"i =\", i)\n",
    "else:\n",
    "    print (\"Else block is executing...\")\n",
    "print (\"End of the iteration...\")"
   ]
  },
  {
   "cell_type": "code",
   "execution_count": 1,
   "id": "4a250c62-6d81-4799-a8a2-3c06bdc8edc5",
   "metadata": {},
   "outputs": [
    {
     "name": "stdout",
     "output_type": "stream",
     "text": [
      "i = 1, i = 2, i = 3, i = 4, i = 5, i = 6, i = 7, i = 8, i = 9, i = 10, \n",
      "ELSE Block is executing...\n",
      "End of the while loop\n"
     ]
    }
   ],
   "source": [
    "i = 1\n",
    "while (i <= 10):\n",
    "    print (\"i =\", i, end = \", \")\n",
    "    i = i + 1\n",
    "else:\n",
    "    print ()\n",
    "    print (\"ELSE Block is executing...\")\n",
    "print (\"End of the while loop\")"
   ]
  },
  {
   "cell_type": "code",
   "execution_count": 3,
   "id": "b1130095-367b-4436-a8a3-a11ed19723ac",
   "metadata": {},
   "outputs": [
    {
     "name": "stdout",
     "output_type": "stream",
     "text": [
      "Visit Doctor...\n",
      "Good Morning...\n",
      "Day Number - 1 and Medicine Number - 1...\n",
      "Day Number - 1 and Medicine Number - 2...\n",
      "Day Number - 1 and Medicine Number - 3...\n",
      "Good night...\n",
      "----------------------------------------------------\n",
      "Good Morning...\n",
      "Day Number - 2 and Medicine Number - 1...\n",
      "Day Number - 2 and Medicine Number - 2...\n",
      "Day Number - 2 and Medicine Number - 3...\n",
      "Good night...\n",
      "----------------------------------------------------\n",
      "Good Morning...\n",
      "Day Number - 3 and Medicine Number - 1...\n",
      "Day Number - 3 and Medicine Number - 2...\n",
      "Day Number - 3 and Medicine Number - 3...\n",
      "Good night...\n",
      "----------------------------------------------------\n",
      "Good Morning...\n",
      "Day Number - 4 and Medicine Number - 1...\n",
      "Day Number - 4 and Medicine Number - 2...\n",
      "Day Number - 4 and Medicine Number - 3...\n",
      "Good night...\n",
      "----------------------------------------------------\n",
      "Good Morning...\n",
      "Day Number - 5 and Medicine Number - 1...\n",
      "Day Number - 5 and Medicine Number - 2...\n",
      "Day Number - 5 and Medicine Number - 3...\n",
      "Good night...\n",
      "----------------------------------------------------\n",
      "Thanks to Doctor...\n",
      "Total number of medicines consumed is 15\n",
      "End of the program...\n"
     ]
    }
   ],
   "source": [
    "# nested looping\n",
    "print (\"Visit Doctor...\")  # 1 time\n",
    "medicount = 0\n",
    "for day in range(1, 6):\n",
    "    print (\"Good Morning...\")  # 5 times\n",
    "    for medi in range(1, 4):\n",
    "        print (f\"Day Number - {day} and Medicine Number - {medi}...\")   # 15 times\n",
    "        medicount += 1\n",
    "    print (\"Good night...\")  # 5 times\n",
    "    print (\"----------------------------------------------------\")   # 5 times\n",
    "print (\"Thanks to Doctor...\")  # 1 time\n",
    "print (\"Total number of medicines consumed is\", medicount)\n",
    "print (\"End of the program...\")  # 1 time"
   ]
  },
  {
   "cell_type": "code",
   "execution_count": 4,
   "id": "8e192f47-0f26-4717-aa3b-bc9ebe4f1afe",
   "metadata": {},
   "outputs": [
    {
     "name": "stdout",
     "output_type": "stream",
     "text": [
      "Visit Doctor...\n",
      "Good Morning...\n",
      "Day Number - 1 and Medicine Number - 1...\n",
      "Day Number - 1 and Medicine Number - 2...\n",
      "Day Number - 1 and Medicine Number - 3...\n",
      "Good night...\n",
      "----------------------------------------------------\n",
      "Good Morning...\n",
      "Day Number - 2 and Medicine Number - 1...\n",
      "Day Number - 2 and Medicine Number - 2...\n",
      "Day Number - 2 and Medicine Number - 3...\n",
      "Good night...\n",
      "----------------------------------------------------\n",
      "Good Morning...\n",
      "Day Number - 3 and Medicine Number - 1...\n",
      "Day Number - 3 and Medicine Number - 2...\n",
      "Day Number - 3 and Medicine Number - 3...\n",
      "Good night...\n",
      "----------------------------------------------------\n",
      "Good Morning...\n",
      "Day Number - 4 and Medicine Number - 1...\n",
      "Day Number - 4 and Medicine Number - 2...\n",
      "Day Number - 4 and Medicine Number - 3...\n",
      "Good night...\n",
      "----------------------------------------------------\n",
      "Good Morning...\n",
      "Day Number - 5 and Medicine Number - 1...\n",
      "Day Number - 5 and Medicine Number - 2...\n",
      "Day Number - 5 and Medicine Number - 3...\n",
      "Good night...\n",
      "----------------------------------------------------\n",
      "Thanks to Doctor...\n",
      "Total number of medicines consumed is 15\n",
      "End of the program...\n"
     ]
    }
   ],
   "source": [
    "# nested looping\n",
    "print (\"Visit Doctor...\")  # 1 time\n",
    "medicount = 0\n",
    "for day in range(1, 6):\n",
    "    print (\"Good Morning...\")  # 5 times\n",
    "    medi = 1\n",
    "    while (medi <= 3):\n",
    "        print (f\"Day Number - {day} and Medicine Number - {medi}...\")   # 15 times\n",
    "        medicount += 1\n",
    "        medi += 1\n",
    "    print (\"Good night...\")  # 5 times\n",
    "    print (\"----------------------------------------------------\")   # 5 times\n",
    "print (\"Thanks to Doctor...\")  # 1 time\n",
    "print (\"Total number of medicines consumed is\", medicount)\n",
    "print (\"End of the program...\")  # 1 time"
   ]
  },
  {
   "cell_type": "code",
   "execution_count": 7,
   "id": "1504203a-60b9-4822-9320-9ea37e086a8b",
   "metadata": {},
   "outputs": [
    {
     "name": "stdout",
     "output_type": "stream",
     "text": [
      "Hello Hello Hello Hello Hello \n",
      "Hi !!! Hi !!! Hi !!! Hi !!! Hi !!! Hi !!! Hi !!! Hi !!! Hi !!! Hi !!! \n"
     ]
    }
   ],
   "source": [
    "print (\"Hello \" * 5)\n",
    "print (\"Hi !!! \" * 10)"
   ]
  },
  {
   "cell_type": "code",
   "execution_count": null,
   "id": "94d54e68-6991-4e5a-9405-7ef574f6fcf6",
   "metadata": {},
   "outputs": [],
   "source": [
    "Pattern - 1\n",
    "n = 6 (User given integer layer number)\n",
    "                 i    .    *  \n",
    "              ----------------\n",
    ".....*           1    5    1        (i, n)\n",
    "....***          2    4    3   . => (n - i)\n",
    "...*****         3    3    5\n",
    "..*******        4    2    7   * => (2 * i - 1)\n",
    ".*********       5    1    9\n",
    "***********      6    0   11\n",
    "              ----------------"
   ]
  },
  {
   "cell_type": "code",
   "execution_count": 13,
   "id": "4c7d9fc9-aa05-438c-a044-01a2a55524f7",
   "metadata": {},
   "outputs": [
    {
     "name": "stdin",
     "output_type": "stream",
     "text": [
      "Please enter the number of layers:  6\n"
     ]
    },
    {
     "name": "stdout",
     "output_type": "stream",
     "text": [
      ".....*\n",
      "....***\n",
      "...*****\n",
      "..*******\n",
      ".*********\n",
      "***********\n",
      "End of the program...\n"
     ]
    }
   ],
   "source": [
    "n = int(input(\"Please enter the number of layers: \"))\n",
    "for i in range(1, n + 1):\n",
    "    print (\".\" * (n - i) + \"*\" * (2 * i - 1))\n",
    "print (\"End of the program...\")"
   ]
  },
  {
   "cell_type": "code",
   "execution_count": null,
   "id": "98535bd4-3992-4d14-82e2-f9d0732eae2b",
   "metadata": {},
   "outputs": [],
   "source": [
    "Pattern - 2\n",
    "n = 6 (User given integer layer number)\n",
    "                 i    .    *  \n",
    "              ----------------\n",
    "***********      1    0   11        (i, n)\n",
    ".*********       2    1    9   . => (i - 1)\n",
    "..*******        3    2    7\n",
    "...*****         4    3    5   * => (2 * (n - i) + 1)\n",
    "....***          5    4    3\n",
    ".....*           6    5    1\n",
    "              ----------------"
   ]
  },
  {
   "cell_type": "code",
   "execution_count": 16,
   "id": "6bba841c-87f9-4d5c-9127-4b2da2bb2939",
   "metadata": {},
   "outputs": [
    {
     "name": "stdin",
     "output_type": "stream",
     "text": [
      "Please enter the number of layers:  6\n"
     ]
    },
    {
     "name": "stdout",
     "output_type": "stream",
     "text": [
      "***********\n",
      ".*********\n",
      "..*******\n",
      "...*****\n",
      "....***\n",
      ".....*\n",
      "End of the program...\n"
     ]
    }
   ],
   "source": [
    "n = int(input(\"Please enter the number of layers: \"))\n",
    "for i in range(1, n + 1):\n",
    "    print (\".\" * (i - 1) + \"*\" * (2 * (n - i) + 1))\n",
    "print (\"End of the program...\")"
   ]
  },
  {
   "cell_type": "code",
   "execution_count": null,
   "id": "ee50cd17-f615-488b-80be-920c507ef34c",
   "metadata": {},
   "outputs": [],
   "source": [
    "Pattern - 3\n",
    "n = 11 (User given ODD integer layer number)  m = (n + 1) // 2 = 6\n",
    "                 i    .    *  \n",
    "              ----------------\n",
    ".....*           1    5    1        (i, m, n)\n",
    "....***          2    4    3   . => (m - i)\n",
    "...*****         3    3    5\n",
    "..*******        4    2    7   * => (2 * i - 1)\n",
    ".*********       5    1    9\n",
    "***********    __6____0___11__\n",
    ".*********       7    1    9\n",
    "..*******        8    2    7   . => (i - m)\n",
    "...*****         9    3    5\n",
    "....***         10    4    3   * => (2 * (n - i) + 1)\n",
    ".....*          11    5    1\n",
    "              ----------------"
   ]
  },
  {
   "cell_type": "code",
   "execution_count": 20,
   "id": "3bd007d5-c74f-48ed-9504-3457b6ff1be2",
   "metadata": {},
   "outputs": [
    {
     "name": "stdin",
     "output_type": "stream",
     "text": [
      "Please enter the ODD number of layers:  12\n",
      "Please enter the ODD number of layers:  18\n",
      "Please enter the ODD number of layers:  14\n",
      "Please enter the ODD number of layers:  10\n",
      "Please enter the ODD number of layers:  6\n",
      "Please enter the ODD number of layers:  11\n"
     ]
    },
    {
     "name": "stdout",
     "output_type": "stream",
     "text": [
      ".....*\n",
      "....***\n",
      "...*****\n",
      "..*******\n",
      ".*********\n",
      "***********\n",
      ".*********\n",
      "..*******\n",
      "...*****\n",
      "....***\n",
      ".....*\n",
      "End of the program...\n"
     ]
    }
   ],
   "source": [
    "while (True):\n",
    "    n = int(input(\"Please enter the ODD number of layers: \"))\n",
    "    if (n % 2 == 1): break\n",
    "m = (n + 1) // 2\n",
    "for i in range(1, n + 1):\n",
    "    if (i > m): b = (i - m); s = (2 * (n - i) + 1)\n",
    "    else: b = (m - i); s = (2 * i - 1)\n",
    "    print (\".\" * b + \"*\" * s)\n",
    "print (\"End of the program...\")"
   ]
  },
  {
   "cell_type": "code",
   "execution_count": null,
   "id": "5baedb65-c7d9-49d2-a961-f1874e549e8c",
   "metadata": {},
   "outputs": [],
   "source": []
  },
  {
   "cell_type": "code",
   "execution_count": null,
   "id": "36950880-e8d2-420c-89d5-e3ef1854861e",
   "metadata": {},
   "outputs": [],
   "source": []
  },
  {
   "cell_type": "code",
   "execution_count": null,
   "id": "e10a3588-2e4b-4634-91cf-590e00c0447c",
   "metadata": {},
   "outputs": [],
   "source": []
  },
  {
   "cell_type": "code",
   "execution_count": null,
   "id": "a7a54311-24a7-427f-a47a-03daae95fb4a",
   "metadata": {},
   "outputs": [],
   "source": []
  },
  {
   "cell_type": "code",
   "execution_count": null,
   "id": "8baa34f6-0ba0-4258-978e-02a4577fb549",
   "metadata": {},
   "outputs": [],
   "source": []
  }
 ],
 "metadata": {
  "kernelspec": {
   "display_name": "Python 3",
   "language": "python",
   "name": "python3"
  },
  "language_info": {
   "codemirror_mode": {
    "name": "ipython",
    "version": 3
   },
   "file_extension": ".py",
   "mimetype": "text/x-python",
   "name": "python",
   "nbconvert_exporter": "python",
   "pygments_lexer": "ipython3",
   "version": "3.8.8"
  }
 },
 "nbformat": 4,
 "nbformat_minor": 5
}
