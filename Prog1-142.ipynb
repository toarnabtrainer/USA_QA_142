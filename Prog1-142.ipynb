{
 "cells": [
  {
   "cell_type": "markdown",
   "id": "2a6a8e68-376b-4871-b67f-e6cb154cc3cf",
   "metadata": {},
   "source": [
    "### Python Download Link:\n",
    "\n",
    "Anaconda Download Link: https://www.anaconda.com/products/distribution"
   ]
  },
  {
   "cell_type": "markdown",
   "id": "bdbc8791-38e3-44de-bc11-a49066000150",
   "metadata": {},
   "source": [
    "### Online Python Editors:\n",
    "\n",
    "https://onecompiler.com/ <br>\n",
    "https://www.onlinegdb.com/"
   ]
  },
  {
   "cell_type": "markdown",
   "id": "51c02d86-c972-4a09-83c5-80d8add13aa3",
   "metadata": {},
   "source": [
    "### Python Study Material Links:\n",
    "\n",
    "* Python for you and me: https://pymbook.readthedocs.io/en/latest/\n",
    "* Python Practice Book: https://anandology.com/python-practice-book/index.html\n",
    "* Learn Python Programming (programmiz.com): https://www.programiz.com/python-programming\n",
    "* Learn Python Programming (data-flair): https://data-flair.training/blogs/python-tutorial/"
   ]
  },
  {
   "cell_type": "code",
   "execution_count": 6,
   "id": "c3122197-8c38-4666-b3bf-a5635c3d0f58",
   "metadata": {},
   "outputs": [
    {
     "name": "stdout",
     "output_type": "stream",
     "text": [
      "Hello\n",
      "Welcome to all...\n"
     ]
    }
   ],
   "source": [
    "print (\"Hello\")\n",
    "print (\"Welcome to all...\")"
   ]
  },
  {
   "cell_type": "code",
   "execution_count": 7,
   "id": "6a2b6ac1-36b0-4ce6-b2e8-517c2371b317",
   "metadata": {},
   "outputs": [],
   "source": [
    "# This is a comment line\n",
    "# This is another comment line\n",
    "# This is the last comment line\n",
    "# Use Ctrl+/ to make a block of codes commented and/or uncommented"
   ]
  },
  {
   "cell_type": "code",
   "execution_count": 9,
   "id": "5f963b83-2d35-432e-82f3-c4d603945eb6",
   "metadata": {},
   "outputs": [
    {
     "name": "stdin",
     "output_type": "stream",
     "text": [
      "Please enter the first number:  100\n",
      "Please enter the second number:  300\n"
     ]
    },
    {
     "name": "stdout",
     "output_type": "stream",
     "text": [
      "100 <class 'str'> 300 <class 'str'>\n",
      "So the total is 100300\n"
     ]
    }
   ],
   "source": [
    "num1 = input(\"Please enter the first number: \")\n",
    "num2 = input(\"Please enter the second number: \")\n",
    "print (num1, type(num1), num2, type(num2))\n",
    "total = num1 + num2\n",
    "print (\"So the total is\", total)"
   ]
  },
  {
   "cell_type": "code",
   "execution_count": 11,
   "id": "d8021f7e-9e1b-422b-a8cb-48d11449ca1b",
   "metadata": {},
   "outputs": [
    {
     "name": "stdin",
     "output_type": "stream",
     "text": [
      "Please enter the first number:  100\n",
      "Please enter the second number:  400\n"
     ]
    },
    {
     "name": "stdout",
     "output_type": "stream",
     "text": [
      "100 <class 'int'> 400 <class 'int'>\n",
      "So the total is 500\n"
     ]
    }
   ],
   "source": [
    "num1 = int(input(\"Please enter the first number: \"))\n",
    "num2 = int(input(\"Please enter the second number: \"))\n",
    "print (num1, type(num1), num2, type(num2))\n",
    "total = num1 + num2\n",
    "print (\"So the total is\", total)"
   ]
  },
  {
   "cell_type": "code",
   "execution_count": 28,
   "id": "e5e441ce-2cab-4985-8197-b912ad73dfb0",
   "metadata": {},
   "outputs": [
    {
     "name": "stdout",
     "output_type": "stream",
     "text": [
      "So the total of 100 and 400 is 500\n",
      "So the total of 100 and 400 is 500\n",
      "So the total of 100 and 400 is 500\n",
      "So the total of 100 and 400 is 500\n",
      "So the total of 100 and 400 is 500\n",
      "So the total of 100 and 400 is 500\n",
      "So the total of 100 and 400 is 500\n",
      "So the total of 100 and 400 is 500\n",
      "So the total of 100 and 400 is 500.000000\n",
      "So the total of 100 and 400 is  500.000\n",
      "So the total of 100 and 400 is 500\n"
     ]
    }
   ],
   "source": [
    "print (\"So the total of\", num1, \"and\", num2, \"is\", total)\n",
    "print (\"So the total of \" + str(num1) + \" and \" + str(num2) + \" is \" + str(total))\n",
    "print (\"So the total of {} and {} is {}\".format(num1, num2, total))   # {} is denoting a variable or value place holder\n",
    "print (\"So the total of {0} and {1} is {2}\".format(num1, num2, total))   # numbered place holder\n",
    "print (\"So the total of {2} and {0} is {1}\".format(num2, total, num1))\n",
    "print (\"So the total of {fnum} and {snum} is {tot}\".format(fnum = num1, snum = num2, tot = total))   # labelled place holder\n",
    "print (\"So the total of {fnum} and {snum} is {tot}\".format(tot = total, snum = num2, fnum = num1))\n",
    "print (\"So the total of %d and %d is %d\"%(num1, num2, total))\n",
    "print (\"So the total of %d and %d is %f\"%(num1, num2, total))\n",
    "print (\"So the total of %d and %d is %8.3f\"%(num1, num2, total))\n",
    "print (f\"So the total of {num1} and {num2} is {total}\")"
   ]
  },
  {
   "cell_type": "markdown",
   "id": "651e4776-1038-4320-ab41-cbc33bbfcf72",
   "metadata": {},
   "source": [
    "### Operators\n",
    "#### Arithmetic Operators"
   ]
  },
  {
   "cell_type": "code",
   "execution_count": 29,
   "id": "1e946cc6-f61d-47af-9ad9-e673ff5e9559",
   "metadata": {},
   "outputs": [
    {
     "name": "stdout",
     "output_type": "stream",
     "text": [
      "140\n",
      "60\n",
      "4000\n",
      "2.5\n",
      "2\n",
      "20\n",
      "100000000\n"
     ]
    }
   ],
   "source": [
    "# arithmetic operators: + - * / // % **\n",
    "print (100 + 40)   # addition\n",
    "print (100 - 40)   # subtraction\n",
    "print (100 * 40)   # multiplication\n",
    "print (100 / 40)   # float division\n",
    "print (100 // 40)  # integer division\n",
    "print (100 % 40)   # remainder of the division\n",
    "print (100 ** 4)   # exponentiation"
   ]
  },
  {
   "cell_type": "markdown",
   "id": "ff09e37c-4293-45a7-9dd3-4a9242ba7b07",
   "metadata": {},
   "source": [
    "#### Logical Operators"
   ]
  },
  {
   "cell_type": "code",
   "execution_count": 31,
   "id": "17a5ff87-5ec1-434b-b48c-6a41f156be12",
   "metadata": {},
   "outputs": [
    {
     "name": "stdout",
     "output_type": "stream",
     "text": [
      "False False False True\n",
      "False True True True\n",
      "False True\n"
     ]
    }
   ],
   "source": [
    "# logical operators: and, or, not\n",
    "print (False and False, False and True, True and False, True and True)\n",
    "print (False or False, False or True, True or False, True or True)\n",
    "print (not True, not False)"
   ]
  },
  {
   "cell_type": "markdown",
   "id": "809b9f91-287d-4bfe-bc3b-d2bf23564994",
   "metadata": {},
   "source": [
    "#### Relational Operators"
   ]
  },
  {
   "cell_type": "code",
   "execution_count": 39,
   "id": "6b72d1d8-850f-4d7e-bf76-03b4060b5b7d",
   "metadata": {},
   "outputs": [
    {
     "name": "stdout",
     "output_type": "stream",
     "text": [
      "True True False False True False\n"
     ]
    }
   ],
   "source": [
    "# relational operators: > >= < <= != ==\n",
    "print (100 > 20, 100 >= 20, 100 < 20, 100 <= 20, 100 != 20, 100 == 20)"
   ]
  },
  {
   "cell_type": "markdown",
   "id": "d58f775c-049b-4cb1-b688-302e900e5200",
   "metadata": {},
   "source": [
    "#### Unary and Binary Operators"
   ]
  },
  {
   "cell_type": "code",
   "execution_count": 38,
   "id": "c3124f02-4ba1-4883-bb1a-b8ade4a541bd",
   "metadata": {},
   "outputs": [
    {
     "name": "stdout",
     "output_type": "stream",
     "text": [
      "-100\n",
      "500\n"
     ]
    }
   ],
   "source": [
    "result = -100  # here - is a uniary operator, i.e it requires only one operand\n",
    "print (result)\n",
    "result = 100 + 400  # here + is a binary operator, i.e it requires two operands\n",
    "print (result)"
   ]
  },
  {
   "cell_type": "markdown",
   "id": "18e4ae11-e2b0-41c2-9953-44e702653b99",
   "metadata": {},
   "source": [
    "#### Ternary Operator"
   ]
  },
  {
   "cell_type": "code",
   "execution_count": 37,
   "id": "cb8b013a-be3e-4f60-b4bd-5b20a2d7b3a8",
   "metadata": {},
   "outputs": [
    {
     "name": "stdout",
     "output_type": "stream",
     "text": [
      "Even Number...\n",
      "Odd Number...\n"
     ]
    }
   ],
   "source": [
    "# ternary oprator requires three operands (or data) to operate (true-part, condition, false-part)\n",
    "num = 100\n",
    "result = \"Even Number...\" if (num % 2 == 0) else \"Odd Number...\"\n",
    "print (result)\n",
    "\n",
    "num = 101\n",
    "result = \"Even Number...\" if (num % 2 == 0) else \"Odd Number...\"\n",
    "print (result)"
   ]
  },
  {
   "cell_type": "code",
   "execution_count": null,
   "id": "6c7c0c83-9956-49e8-be56-5017ba0c4811",
   "metadata": {},
   "outputs": [],
   "source": []
  },
  {
   "cell_type": "code",
   "execution_count": null,
   "id": "043ff30c-303b-48f5-8b1f-7ee866754af7",
   "metadata": {},
   "outputs": [],
   "source": []
  },
  {
   "cell_type": "code",
   "execution_count": null,
   "id": "3bd007d5-c74f-48ed-9504-3457b6ff1be2",
   "metadata": {},
   "outputs": [],
   "source": []
  }
 ],
 "metadata": {
  "kernelspec": {
   "display_name": "Python 3",
   "language": "python",
   "name": "python3"
  },
  "language_info": {
   "codemirror_mode": {
    "name": "ipython",
    "version": 3
   },
   "file_extension": ".py",
   "mimetype": "text/x-python",
   "name": "python",
   "nbconvert_exporter": "python",
   "pygments_lexer": "ipython3",
   "version": "3.8.8"
  }
 },
 "nbformat": 4,
 "nbformat_minor": 5
}
